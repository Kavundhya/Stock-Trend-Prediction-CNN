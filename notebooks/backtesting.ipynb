{
  "nbformat": 4,
  "nbformat_minor": 0,
  "metadata": {
    "colab": {
      "provenance": []
    },
    "kernelspec": {
      "name": "python3",
      "display_name": "Python 3"
    },
    "language_info": {
      "name": "python"
    },
    "widgets": {
      "application/vnd.jupyter.widget-state+json": {
        "2275e55c6a4c4129a2c9f43533cfdeae": {
          "model_module": "@jupyter-widgets/controls",
          "model_name": "HBoxModel",
          "model_module_version": "1.5.0",
          "state": {
            "_dom_classes": [],
            "_model_module": "@jupyter-widgets/controls",
            "_model_module_version": "1.5.0",
            "_model_name": "HBoxModel",
            "_view_count": null,
            "_view_module": "@jupyter-widgets/controls",
            "_view_module_version": "1.5.0",
            "_view_name": "HBoxView",
            "box_style": "",
            "children": [
              "IPY_MODEL_716b5a1f49ed402aa759b5707e8ced04",
              "IPY_MODEL_d7109f52774a42a98e96772d3d5bd695",
              "IPY_MODEL_8d282a0ad13a44d2aaa88666e49f52b4"
            ],
            "layout": "IPY_MODEL_7cf973e572444b9aaef614ea821cdc1f"
          }
        },
        "716b5a1f49ed402aa759b5707e8ced04": {
          "model_module": "@jupyter-widgets/controls",
          "model_name": "HTMLModel",
          "model_module_version": "1.5.0",
          "state": {
            "_dom_classes": [],
            "_model_module": "@jupyter-widgets/controls",
            "_model_module_version": "1.5.0",
            "_model_name": "HTMLModel",
            "_view_count": null,
            "_view_module": "@jupyter-widgets/controls",
            "_view_module_version": "1.5.0",
            "_view_name": "HTMLView",
            "description": "",
            "description_tooltip": null,
            "layout": "IPY_MODEL_88c0ff636d7c4d86a5ae966ccf04b0fc",
            "placeholder": "​",
            "style": "IPY_MODEL_fe17304e7cd642ffbba5dd9e8a9e387f",
            "value": "Backtest.run:  93%"
          }
        },
        "d7109f52774a42a98e96772d3d5bd695": {
          "model_module": "@jupyter-widgets/controls",
          "model_name": "FloatProgressModel",
          "model_module_version": "1.5.0",
          "state": {
            "_dom_classes": [],
            "_model_module": "@jupyter-widgets/controls",
            "_model_module_version": "1.5.0",
            "_model_name": "FloatProgressModel",
            "_view_count": null,
            "_view_module": "@jupyter-widgets/controls",
            "_view_module_version": "1.5.0",
            "_view_name": "ProgressView",
            "bar_style": "",
            "description": "",
            "description_tooltip": null,
            "layout": "IPY_MODEL_15ebdb1366f54796b14e8f46c3f5bd8a",
            "max": 216,
            "min": 0,
            "orientation": "horizontal",
            "style": "IPY_MODEL_2af91436e1f74e189906ddccfe9ec091",
            "value": 216
          }
        },
        "8d282a0ad13a44d2aaa88666e49f52b4": {
          "model_module": "@jupyter-widgets/controls",
          "model_name": "HTMLModel",
          "model_module_version": "1.5.0",
          "state": {
            "_dom_classes": [],
            "_model_module": "@jupyter-widgets/controls",
            "_model_module_version": "1.5.0",
            "_model_name": "HTMLModel",
            "_view_count": null,
            "_view_module": "@jupyter-widgets/controls",
            "_view_module_version": "1.5.0",
            "_view_name": "HTMLView",
            "description": "",
            "description_tooltip": null,
            "layout": "IPY_MODEL_19d2022f74d3421f9754c80c490507ef",
            "placeholder": "​",
            "style": "IPY_MODEL_14b81e5036914dd69505310f8f190693",
            "value": " 200/216 [00:16&lt;00:01, 12.37bar/s]"
          }
        },
        "7cf973e572444b9aaef614ea821cdc1f": {
          "model_module": "@jupyter-widgets/base",
          "model_name": "LayoutModel",
          "model_module_version": "1.2.0",
          "state": {
            "_model_module": "@jupyter-widgets/base",
            "_model_module_version": "1.2.0",
            "_model_name": "LayoutModel",
            "_view_count": null,
            "_view_module": "@jupyter-widgets/base",
            "_view_module_version": "1.2.0",
            "_view_name": "LayoutView",
            "align_content": null,
            "align_items": null,
            "align_self": null,
            "border": null,
            "bottom": null,
            "display": null,
            "flex": null,
            "flex_flow": null,
            "grid_area": null,
            "grid_auto_columns": null,
            "grid_auto_flow": null,
            "grid_auto_rows": null,
            "grid_column": null,
            "grid_gap": null,
            "grid_row": null,
            "grid_template_areas": null,
            "grid_template_columns": null,
            "grid_template_rows": null,
            "height": null,
            "justify_content": null,
            "justify_items": null,
            "left": null,
            "margin": null,
            "max_height": null,
            "max_width": null,
            "min_height": null,
            "min_width": null,
            "object_fit": null,
            "object_position": null,
            "order": null,
            "overflow": null,
            "overflow_x": null,
            "overflow_y": null,
            "padding": null,
            "right": null,
            "top": null,
            "visibility": "hidden",
            "width": null
          }
        },
        "88c0ff636d7c4d86a5ae966ccf04b0fc": {
          "model_module": "@jupyter-widgets/base",
          "model_name": "LayoutModel",
          "model_module_version": "1.2.0",
          "state": {
            "_model_module": "@jupyter-widgets/base",
            "_model_module_version": "1.2.0",
            "_model_name": "LayoutModel",
            "_view_count": null,
            "_view_module": "@jupyter-widgets/base",
            "_view_module_version": "1.2.0",
            "_view_name": "LayoutView",
            "align_content": null,
            "align_items": null,
            "align_self": null,
            "border": null,
            "bottom": null,
            "display": null,
            "flex": null,
            "flex_flow": null,
            "grid_area": null,
            "grid_auto_columns": null,
            "grid_auto_flow": null,
            "grid_auto_rows": null,
            "grid_column": null,
            "grid_gap": null,
            "grid_row": null,
            "grid_template_areas": null,
            "grid_template_columns": null,
            "grid_template_rows": null,
            "height": null,
            "justify_content": null,
            "justify_items": null,
            "left": null,
            "margin": null,
            "max_height": null,
            "max_width": null,
            "min_height": null,
            "min_width": null,
            "object_fit": null,
            "object_position": null,
            "order": null,
            "overflow": null,
            "overflow_x": null,
            "overflow_y": null,
            "padding": null,
            "right": null,
            "top": null,
            "visibility": null,
            "width": null
          }
        },
        "fe17304e7cd642ffbba5dd9e8a9e387f": {
          "model_module": "@jupyter-widgets/controls",
          "model_name": "DescriptionStyleModel",
          "model_module_version": "1.5.0",
          "state": {
            "_model_module": "@jupyter-widgets/controls",
            "_model_module_version": "1.5.0",
            "_model_name": "DescriptionStyleModel",
            "_view_count": null,
            "_view_module": "@jupyter-widgets/base",
            "_view_module_version": "1.2.0",
            "_view_name": "StyleView",
            "description_width": ""
          }
        },
        "15ebdb1366f54796b14e8f46c3f5bd8a": {
          "model_module": "@jupyter-widgets/base",
          "model_name": "LayoutModel",
          "model_module_version": "1.2.0",
          "state": {
            "_model_module": "@jupyter-widgets/base",
            "_model_module_version": "1.2.0",
            "_model_name": "LayoutModel",
            "_view_count": null,
            "_view_module": "@jupyter-widgets/base",
            "_view_module_version": "1.2.0",
            "_view_name": "LayoutView",
            "align_content": null,
            "align_items": null,
            "align_self": null,
            "border": null,
            "bottom": null,
            "display": null,
            "flex": null,
            "flex_flow": null,
            "grid_area": null,
            "grid_auto_columns": null,
            "grid_auto_flow": null,
            "grid_auto_rows": null,
            "grid_column": null,
            "grid_gap": null,
            "grid_row": null,
            "grid_template_areas": null,
            "grid_template_columns": null,
            "grid_template_rows": null,
            "height": null,
            "justify_content": null,
            "justify_items": null,
            "left": null,
            "margin": null,
            "max_height": null,
            "max_width": null,
            "min_height": null,
            "min_width": null,
            "object_fit": null,
            "object_position": null,
            "order": null,
            "overflow": null,
            "overflow_x": null,
            "overflow_y": null,
            "padding": null,
            "right": null,
            "top": null,
            "visibility": null,
            "width": null
          }
        },
        "2af91436e1f74e189906ddccfe9ec091": {
          "model_module": "@jupyter-widgets/controls",
          "model_name": "ProgressStyleModel",
          "model_module_version": "1.5.0",
          "state": {
            "_model_module": "@jupyter-widgets/controls",
            "_model_module_version": "1.5.0",
            "_model_name": "ProgressStyleModel",
            "_view_count": null,
            "_view_module": "@jupyter-widgets/base",
            "_view_module_version": "1.2.0",
            "_view_name": "StyleView",
            "bar_color": null,
            "description_width": ""
          }
        },
        "19d2022f74d3421f9754c80c490507ef": {
          "model_module": "@jupyter-widgets/base",
          "model_name": "LayoutModel",
          "model_module_version": "1.2.0",
          "state": {
            "_model_module": "@jupyter-widgets/base",
            "_model_module_version": "1.2.0",
            "_model_name": "LayoutModel",
            "_view_count": null,
            "_view_module": "@jupyter-widgets/base",
            "_view_module_version": "1.2.0",
            "_view_name": "LayoutView",
            "align_content": null,
            "align_items": null,
            "align_self": null,
            "border": null,
            "bottom": null,
            "display": null,
            "flex": null,
            "flex_flow": null,
            "grid_area": null,
            "grid_auto_columns": null,
            "grid_auto_flow": null,
            "grid_auto_rows": null,
            "grid_column": null,
            "grid_gap": null,
            "grid_row": null,
            "grid_template_areas": null,
            "grid_template_columns": null,
            "grid_template_rows": null,
            "height": null,
            "justify_content": null,
            "justify_items": null,
            "left": null,
            "margin": null,
            "max_height": null,
            "max_width": null,
            "min_height": null,
            "min_width": null,
            "object_fit": null,
            "object_position": null,
            "order": null,
            "overflow": null,
            "overflow_x": null,
            "overflow_y": null,
            "padding": null,
            "right": null,
            "top": null,
            "visibility": null,
            "width": null
          }
        },
        "14b81e5036914dd69505310f8f190693": {
          "model_module": "@jupyter-widgets/controls",
          "model_name": "DescriptionStyleModel",
          "model_module_version": "1.5.0",
          "state": {
            "_model_module": "@jupyter-widgets/controls",
            "_model_module_version": "1.5.0",
            "_model_name": "DescriptionStyleModel",
            "_view_count": null,
            "_view_module": "@jupyter-widgets/base",
            "_view_module_version": "1.2.0",
            "_view_name": "StyleView",
            "description_width": ""
          }
        }
      }
    }
  },
  "cells": [
    {
      "cell_type": "markdown",
      "source": [
        "## **Mount Google Drive**"
      ],
      "metadata": {
        "id": "c3vfxPvmbmx8"
      }
    },
    {
      "cell_type": "code",
      "source": [
        "from google.colab import drive\n",
        "drive.mount('/content/drive')"
      ],
      "metadata": {
        "colab": {
          "base_uri": "https://localhost:8080/"
        },
        "id": "wQqxFwNTXC2g",
        "outputId": "0c0eb338-22a8-41eb-b838-c67de069cd78"
      },
      "execution_count": 1,
      "outputs": [
        {
          "output_type": "stream",
          "name": "stdout",
          "text": [
            "Mounted at /content/drive\n"
          ]
        }
      ]
    },
    {
      "cell_type": "code",
      "source": [
        "from tensorflow.keras.models import load_model\n",
        "model = load_model(\"/content/drive/MyDrive/QR_Intern/cnn_price_trend_model.h5\")"
      ],
      "metadata": {
        "colab": {
          "base_uri": "https://localhost:8080/"
        },
        "id": "aZQdiXJaXaIu",
        "outputId": "b06098fa-a85a-44e1-a77a-fc25d98a7699"
      },
      "execution_count": 2,
      "outputs": [
        {
          "output_type": "stream",
          "name": "stderr",
          "text": [
            "WARNING:absl:Compiled the loaded model, but the compiled metrics have yet to be built. `model.compile_metrics` will be empty until you train or evaluate the model.\n"
          ]
        }
      ]
    },
    {
      "cell_type": "code",
      "source": [
        "import os\n",
        "\n",
        "BASE_DIR = \"/content/drive/MyDrive/QR_Intern\"\n",
        "os.makedirs(BASE_DIR, exist_ok=True)"
      ],
      "metadata": {
        "id": "8QhR05daYPmp"
      },
      "execution_count": 3,
      "outputs": []
    },
    {
      "cell_type": "markdown",
      "source": [
        "# **Load Data**"
      ],
      "metadata": {
        "id": "bOw8mfirYWO-"
      }
    },
    {
      "cell_type": "code",
      "source": [
        "import pandas as pd\n",
        "\n",
        "df = pd.read_csv(f\"{BASE_DIR}/data.csv\", parse_dates=[\"Date\"])"
      ],
      "metadata": {
        "id": "kOigza6xYUYu"
      },
      "execution_count": 4,
      "outputs": []
    },
    {
      "cell_type": "markdown",
      "source": [
        "# **Load the Trained Model**"
      ],
      "metadata": {
        "id": "OPGjsoeeb1Bm"
      }
    },
    {
      "cell_type": "code",
      "source": [
        "from tensorflow.keras.models import load_model\n",
        "\n",
        "model_path = f\"{BASE_DIR}/cnn_price_trend_model.h5\"\n",
        "model = load_model(model_path)"
      ],
      "metadata": {
        "colab": {
          "base_uri": "https://localhost:8080/"
        },
        "id": "sW3zNO_kYfPA",
        "outputId": "da533f12-5d4a-4948-e2e9-e67a67f0fc41"
      },
      "execution_count": 5,
      "outputs": [
        {
          "output_type": "stream",
          "name": "stderr",
          "text": [
            "WARNING:absl:Compiled the loaded model, but the compiled metrics have yet to be built. `model.compile_metrics` will be empty until you train or evaluate the model.\n"
          ]
        }
      ]
    },
    {
      "cell_type": "markdown",
      "source": [
        "# **Prepare Backtesting Data Format**"
      ],
      "metadata": {
        "id": "ZC0R8bLGb6Dz"
      }
    },
    {
      "cell_type": "code",
      "source": [
        "bt_df = df[['Date', 'Open', 'High', 'Low', 'Close', 'Volume']].copy()\n",
        "bt_df['EMA20'] = df['EMA20'].values\n",
        "bt_df['MACD'] = df['MACD'].values\n",
        "bt_df['MOM_6'] = df['MOM_6'].values\n",
        "bt_df['RSI'] = df['RSI'].values\n",
        "bt_df['ATR'] = df['ATR'].values\n",
        "\n",
        "bt_df.set_index('Date', inplace=True)"
      ],
      "metadata": {
        "id": "tq0HIHgUYi2d"
      },
      "execution_count": 6,
      "outputs": []
    },
    {
      "cell_type": "markdown",
      "source": [
        "# **Define Strategy**"
      ],
      "metadata": {
        "id": "Sp0VH5XrcNQV"
      }
    },
    {
      "cell_type": "code",
      "source": [
        "# -*- coding: utf-8 -*-\n",
        "\"\"\"Backtesting Script for Stock Trend Prediction\"\"\"\n",
        "\n",
        "# 1. Install required packages\n",
        "import subprocess\n",
        "import sys\n",
        "def install(package):\n",
        "    subprocess.check_call([sys.executable, \"-m\", \"pip\", \"install\", package])\n",
        "\n",
        "try:\n",
        "    from backtesting import Strategy, Backtest\n",
        "except ImportError:\n",
        "    install('backtesting')\n",
        "    from backtesting import Strategy, Backtest\n",
        "\n",
        "import pandas as pd\n",
        "import numpy as np\n",
        "from tensorflow.keras.models import load_model\n",
        "\n",
        "# 2. Suppress unnecessary warnings\n",
        "import warnings\n",
        "warnings.filterwarnings('ignore', category=UserWarning, module='backtesting._plotting')\n",
        "warnings.filterwarnings('ignore', category=UserWarning, module='absl')\n",
        "\n",
        "# 3. Load data and model\n",
        "BASE_DIR = \"/content/drive/MyDrive/QR_Intern\"\n",
        "try:\n",
        "    model = load_model(f\"{BASE_DIR}/cnn_price_trend_model.h5\")\n",
        "    df = pd.read_csv(f\"{BASE_DIR}/data.csv\", parse_dates=[\"Date\"], index_col=\"Date\")\n",
        "except Exception as e:\n",
        "    print(f\"Error loading files: {e}\")\n",
        "    raise\n",
        "\n",
        "# 4. Define Strategy\n",
        "class SlopeDetectionStrategy(Strategy):\n",
        "    window = 22  # As per research paper\n",
        "    confidence_thresh = 0.65  # Min probability to trade\n",
        "\n",
        "    def init(self):\n",
        "        self.model = model\n",
        "        # Commission is now set in Backtest() initialization\n",
        "\n",
        "    def next(self):\n",
        "        if len(self.data) < self.window:\n",
        "            return\n",
        "\n",
        "        # Prepare input tensor\n",
        "        X = np.column_stack([\n",
        "            self.data.EMA20[-self.window:],\n",
        "            self.data.MACD[-self.window:],\n",
        "            self.data.MOM_6[-self.window:],\n",
        "            self.data.RSI[-self.window:],\n",
        "            self.data.ATR[-self.window:]\n",
        "        ]).reshape(1, self.window, 5)\n",
        "\n",
        "        # Get prediction\n",
        "        pred = self.model.predict(X, verbose=0)[0]\n",
        "        label = np.argmax(pred)\n",
        "        confidence = np.max(pred)\n",
        "\n",
        "        # Trading rules (4-class)\n",
        "        if confidence > self.confidence_thresh:\n",
        "            if label in [2, 3]:  # rise or rise-plus\n",
        "                if not self.position:\n",
        "                    self.buy(size=0.5)  # Risk management\n",
        "            elif label in [0, 1]:  # fall or fall-plus\n",
        "                if self.position:\n",
        "                    self.position.close()\n",
        "\n",
        "# 5. Run backtest\n",
        "bt = Backtest(\n",
        "    df,\n",
        "    SlopeDetectionStrategy,\n",
        "    cash=10000,\n",
        "    commission=0.002,\n",
        "    exclusive_orders=True,\n",
        "    trade_on_close=True\n",
        ")\n",
        "\n",
        "stats = bt.run()\n",
        "print(stats)\n",
        "bt.plot()"
      ],
      "metadata": {
        "id": "xKk65PbrYltR",
        "colab": {
          "base_uri": "https://localhost:8080/",
          "height": 1000,
          "referenced_widgets": [
            "2275e55c6a4c4129a2c9f43533cfdeae",
            "716b5a1f49ed402aa759b5707e8ced04",
            "d7109f52774a42a98e96772d3d5bd695",
            "8d282a0ad13a44d2aaa88666e49f52b4",
            "7cf973e572444b9aaef614ea821cdc1f",
            "88c0ff636d7c4d86a5ae966ccf04b0fc",
            "fe17304e7cd642ffbba5dd9e8a9e387f",
            "15ebdb1366f54796b14e8f46c3f5bd8a",
            "2af91436e1f74e189906ddccfe9ec091",
            "19d2022f74d3421f9754c80c490507ef",
            "14b81e5036914dd69505310f8f190693"
          ]
        },
        "outputId": "006bd1ac-439c-46b5-a0fc-962dadf49a4a"
      },
      "execution_count": 12,
      "outputs": [
        {
          "output_type": "stream",
          "name": "stderr",
          "text": [
            "WARNING:absl:Compiled the loaded model, but the compiled metrics have yet to be built. `model.compile_metrics` will be empty until you train or evaluate the model.\n"
          ]
        },
        {
          "output_type": "display_data",
          "data": {
            "text/plain": [
              "Backtest.run:   0%|          | 0/216 [00:00<?, ?bar/s]"
            ],
            "application/vnd.jupyter.widget-view+json": {
              "version_major": 2,
              "version_minor": 0,
              "model_id": "2275e55c6a4c4129a2c9f43533cfdeae"
            }
          },
          "metadata": {}
        },
        {
          "output_type": "stream",
          "name": "stdout",
          "text": [
            "Start                     2024-08-20 00:00:00\n",
            "End                       2025-07-02 00:00:00\n",
            "Duration                    316 days 00:00:00\n",
            "Exposure Time [%]                         0.0\n",
            "Equity Final [$]                      10000.0\n",
            "Equity Peak [$]                       10000.0\n",
            "Return [%]                                0.0\n",
            "Buy & Hold Return [%]                12.43562\n",
            "Return (Ann.) [%]                         0.0\n",
            "Volatility (Ann.) [%]                     0.0\n",
            "CAGR [%]                                  0.0\n",
            "Sharpe Ratio                              NaN\n",
            "Sortino Ratio                             NaN\n",
            "Calmar Ratio                              NaN\n",
            "Alpha [%]                                 0.0\n",
            "Beta                                      0.0\n",
            "Max. Drawdown [%]                        -0.0\n",
            "Avg. Drawdown [%]                         NaN\n",
            "Max. Drawdown Duration                    NaN\n",
            "Avg. Drawdown Duration                    NaN\n",
            "# Trades                                    0\n",
            "Win Rate [%]                              NaN\n",
            "Best Trade [%]                            NaN\n",
            "Worst Trade [%]                           NaN\n",
            "Avg. Trade [%]                            NaN\n",
            "Max. Trade Duration                       NaN\n",
            "Avg. Trade Duration                       NaN\n",
            "Profit Factor                             NaN\n",
            "Expectancy [%]                            NaN\n",
            "SQN                                       NaN\n",
            "Kelly Criterion                           NaN\n",
            "_strategy                 SlopeDetectionSt...\n",
            "_equity_curve                          Equ...\n",
            "_trades                   Empty DataFrame\n",
            "...\n",
            "dtype: object\n"
          ]
        },
        {
          "output_type": "display_data",
          "data": {
            "application/javascript": [
              "'use strict';\n",
              "(function(root) {\n",
              "  function now() {\n",
              "    return new Date();\n",
              "  }\n",
              "\n",
              "  const force = true;\n",
              "\n",
              "  if (typeof root._bokeh_onload_callbacks === \"undefined\" || force === true) {\n",
              "    root._bokeh_onload_callbacks = [];\n",
              "    root._bokeh_is_loading = undefined;\n",
              "  }\n",
              "\n",
              "const JS_MIME_TYPE = 'application/javascript';\n",
              "  const HTML_MIME_TYPE = 'text/html';\n",
              "  const EXEC_MIME_TYPE = 'application/vnd.bokehjs_exec.v0+json';\n",
              "  const CLASS_NAME = 'output_bokeh rendered_html';\n",
              "\n",
              "  /**\n",
              "   * Render data to the DOM node\n",
              "   */\n",
              "  function render(props, node) {\n",
              "    const script = document.createElement(\"script\");\n",
              "    node.appendChild(script);\n",
              "  }\n",
              "\n",
              "  /**\n",
              "   * Handle when an output is cleared or removed\n",
              "   */\n",
              "  function handleClearOutput(event, handle) {\n",
              "    function drop(id) {\n",
              "      const view = Bokeh.index.get_by_id(id)\n",
              "      if (view != null) {\n",
              "        view.model.document.clear()\n",
              "        Bokeh.index.delete(view)\n",
              "      }\n",
              "    }\n",
              "\n",
              "    const cell = handle.cell;\n",
              "\n",
              "    const id = cell.output_area._bokeh_element_id;\n",
              "    const server_id = cell.output_area._bokeh_server_id;\n",
              "\n",
              "    // Clean up Bokeh references\n",
              "    if (id != null) {\n",
              "      drop(id)\n",
              "    }\n",
              "\n",
              "    if (server_id !== undefined) {\n",
              "      // Clean up Bokeh references\n",
              "      const cmd_clean = \"from bokeh.io.state import curstate; print(curstate().uuid_to_server['\" + server_id + \"'].get_sessions()[0].document.roots[0]._id)\";\n",
              "      cell.notebook.kernel.execute(cmd_clean, {\n",
              "        iopub: {\n",
              "          output: function(msg) {\n",
              "            const id = msg.content.text.trim()\n",
              "            drop(id)\n",
              "          }\n",
              "        }\n",
              "      });\n",
              "      // Destroy server and session\n",
              "      const cmd_destroy = \"import bokeh.io.notebook as ion; ion.destroy_server('\" + server_id + \"')\";\n",
              "      cell.notebook.kernel.execute(cmd_destroy);\n",
              "    }\n",
              "  }\n",
              "\n",
              "  /**\n",
              "   * Handle when a new output is added\n",
              "   */\n",
              "  function handleAddOutput(event, handle) {\n",
              "    const output_area = handle.output_area;\n",
              "    const output = handle.output;\n",
              "\n",
              "    // limit handleAddOutput to display_data with EXEC_MIME_TYPE content only\n",
              "    if ((output.output_type != \"display_data\") || (!Object.prototype.hasOwnProperty.call(output.data, EXEC_MIME_TYPE))) {\n",
              "      return\n",
              "    }\n",
              "\n",
              "    const toinsert = output_area.element.find(\".\" + CLASS_NAME.split(' ')[0]);\n",
              "\n",
              "    if (output.metadata[EXEC_MIME_TYPE][\"id\"] !== undefined) {\n",
              "      toinsert[toinsert.length - 1].firstChild.textContent = output.data[JS_MIME_TYPE];\n",
              "      // store reference to embed id on output_area\n",
              "      output_area._bokeh_element_id = output.metadata[EXEC_MIME_TYPE][\"id\"];\n",
              "    }\n",
              "    if (output.metadata[EXEC_MIME_TYPE][\"server_id\"] !== undefined) {\n",
              "      const bk_div = document.createElement(\"div\");\n",
              "      bk_div.innerHTML = output.data[HTML_MIME_TYPE];\n",
              "      const script_attrs = bk_div.children[0].attributes;\n",
              "      for (let i = 0; i < script_attrs.length; i++) {\n",
              "        toinsert[toinsert.length - 1].firstChild.setAttribute(script_attrs[i].name, script_attrs[i].value);\n",
              "        toinsert[toinsert.length - 1].firstChild.textContent = bk_div.children[0].textContent\n",
              "      }\n",
              "      // store reference to server id on output_area\n",
              "      output_area._bokeh_server_id = output.metadata[EXEC_MIME_TYPE][\"server_id\"];\n",
              "    }\n",
              "  }\n",
              "\n",
              "  function register_renderer(events, OutputArea) {\n",
              "\n",
              "    function append_mime(data, metadata, element) {\n",
              "      // create a DOM node to render to\n",
              "      const toinsert = this.create_output_subarea(\n",
              "        metadata,\n",
              "        CLASS_NAME,\n",
              "        EXEC_MIME_TYPE\n",
              "      );\n",
              "      this.keyboard_manager.register_events(toinsert);\n",
              "      // Render to node\n",
              "      const props = {data: data, metadata: metadata[EXEC_MIME_TYPE]};\n",
              "      render(props, toinsert[toinsert.length - 1]);\n",
              "      element.append(toinsert);\n",
              "      return toinsert\n",
              "    }\n",
              "\n",
              "    /* Handle when an output is cleared or removed */\n",
              "    events.on('clear_output.CodeCell', handleClearOutput);\n",
              "    events.on('delete.Cell', handleClearOutput);\n",
              "\n",
              "    /* Handle when a new output is added */\n",
              "    events.on('output_added.OutputArea', handleAddOutput);\n",
              "\n",
              "    /**\n",
              "     * Register the mime type and append_mime function with output_area\n",
              "     */\n",
              "    OutputArea.prototype.register_mime_type(EXEC_MIME_TYPE, append_mime, {\n",
              "      /* Is output safe? */\n",
              "      safe: true,\n",
              "      /* Index of renderer in `output_area.display_order` */\n",
              "      index: 0\n",
              "    });\n",
              "  }\n",
              "\n",
              "  // register the mime type if in Jupyter Notebook environment and previously unregistered\n",
              "  if (root.Jupyter !== undefined) {\n",
              "    const events = require('base/js/events');\n",
              "    const OutputArea = require('notebook/js/outputarea').OutputArea;\n",
              "\n",
              "    if (OutputArea.prototype.mime_types().indexOf(EXEC_MIME_TYPE) == -1) {\n",
              "      register_renderer(events, OutputArea);\n",
              "    }\n",
              "  }\n",
              "  if (typeof (root._bokeh_timeout) === \"undefined\" || force === true) {\n",
              "    root._bokeh_timeout = Date.now() + 5000;\n",
              "    root._bokeh_failed_load = false;\n",
              "  }\n",
              "\n",
              "  const NB_LOAD_WARNING = {'data': {'text/html':\n",
              "     \"<div style='background-color: #fdd'>\\n\"+\n",
              "     \"<p>\\n\"+\n",
              "     \"BokehJS does not appear to have successfully loaded. If loading BokehJS from CDN, this \\n\"+\n",
              "     \"may be due to a slow or bad network connection. Possible fixes:\\n\"+\n",
              "     \"</p>\\n\"+\n",
              "     \"<ul>\\n\"+\n",
              "     \"<li>re-rerun `output_notebook()` to attempt to load from CDN again, or</li>\\n\"+\n",
              "     \"<li>use INLINE resources instead, as so:</li>\\n\"+\n",
              "     \"</ul>\\n\"+\n",
              "     \"<code>\\n\"+\n",
              "     \"from bokeh.resources import INLINE\\n\"+\n",
              "     \"output_notebook(resources=INLINE)\\n\"+\n",
              "     \"</code>\\n\"+\n",
              "     \"</div>\"}};\n",
              "\n",
              "  function display_loaded(error = null) {\n",
              "    const el = document.getElementById(null);\n",
              "    if (el != null) {\n",
              "      const html = (() => {\n",
              "        if (typeof root.Bokeh === \"undefined\") {\n",
              "          if (error == null) {\n",
              "            return \"BokehJS is loading ...\";\n",
              "          } else {\n",
              "            return \"BokehJS failed to load.\";\n",
              "          }\n",
              "        } else {\n",
              "          const prefix = `BokehJS ${root.Bokeh.version}`;\n",
              "          if (error == null) {\n",
              "            return `${prefix} successfully loaded.`;\n",
              "          } else {\n",
              "            return `${prefix} <b>encountered errors</b> while loading and may not function as expected.`;\n",
              "          }\n",
              "        }\n",
              "      })();\n",
              "      el.innerHTML = html;\n",
              "\n",
              "      if (error != null) {\n",
              "        const wrapper = document.createElement(\"div\");\n",
              "        wrapper.style.overflow = \"auto\";\n",
              "        wrapper.style.height = \"5em\";\n",
              "        wrapper.style.resize = \"vertical\";\n",
              "        const content = document.createElement(\"div\");\n",
              "        content.style.fontFamily = \"monospace\";\n",
              "        content.style.whiteSpace = \"pre-wrap\";\n",
              "        content.style.backgroundColor = \"rgb(255, 221, 221)\";\n",
              "        content.textContent = error.stack ?? error.toString();\n",
              "        wrapper.append(content);\n",
              "        el.append(wrapper);\n",
              "      }\n",
              "    } else if (Date.now() < root._bokeh_timeout) {\n",
              "      setTimeout(() => display_loaded(error), 100);\n",
              "    }\n",
              "  }\n",
              "\n",
              "  function run_callbacks() {\n",
              "    try {\n",
              "      root._bokeh_onload_callbacks.forEach(function(callback) {\n",
              "        if (callback != null)\n",
              "          callback();\n",
              "      });\n",
              "    } finally {\n",
              "      delete root._bokeh_onload_callbacks\n",
              "    }\n",
              "    console.debug(\"Bokeh: all callbacks have finished\");\n",
              "  }\n",
              "\n",
              "  function load_libs(css_urls, js_urls, callback) {\n",
              "    if (css_urls == null) css_urls = [];\n",
              "    if (js_urls == null) js_urls = [];\n",
              "\n",
              "    root._bokeh_onload_callbacks.push(callback);\n",
              "    if (root._bokeh_is_loading > 0) {\n",
              "      console.debug(\"Bokeh: BokehJS is being loaded, scheduling callback at\", now());\n",
              "      return null;\n",
              "    }\n",
              "    if (js_urls == null || js_urls.length === 0) {\n",
              "      run_callbacks();\n",
              "      return null;\n",
              "    }\n",
              "    console.debug(\"Bokeh: BokehJS not loaded, scheduling load and callback at\", now());\n",
              "    root._bokeh_is_loading = css_urls.length + js_urls.length;\n",
              "\n",
              "    function on_load() {\n",
              "      root._bokeh_is_loading--;\n",
              "      if (root._bokeh_is_loading === 0) {\n",
              "        console.debug(\"Bokeh: all BokehJS libraries/stylesheets loaded\");\n",
              "        run_callbacks()\n",
              "      }\n",
              "    }\n",
              "\n",
              "    function on_error(url) {\n",
              "      console.error(\"failed to load \" + url);\n",
              "    }\n",
              "\n",
              "    for (let i = 0; i < css_urls.length; i++) {\n",
              "      const url = css_urls[i];\n",
              "      const element = document.createElement(\"link\");\n",
              "      element.onload = on_load;\n",
              "      element.onerror = on_error.bind(null, url);\n",
              "      element.rel = \"stylesheet\";\n",
              "      element.type = \"text/css\";\n",
              "      element.href = url;\n",
              "      console.debug(\"Bokeh: injecting link tag for BokehJS stylesheet: \", url);\n",
              "      document.body.appendChild(element);\n",
              "    }\n",
              "\n",
              "    for (let i = 0; i < js_urls.length; i++) {\n",
              "      const url = js_urls[i];\n",
              "      const element = document.createElement('script');\n",
              "      element.onload = on_load;\n",
              "      element.onerror = on_error.bind(null, url);\n",
              "      element.async = false;\n",
              "      element.src = url;\n",
              "      console.debug(\"Bokeh: injecting script tag for BokehJS library: \", url);\n",
              "      document.head.appendChild(element);\n",
              "    }\n",
              "  };\n",
              "\n",
              "  function inject_raw_css(css) {\n",
              "    const element = document.createElement(\"style\");\n",
              "    element.appendChild(document.createTextNode(css));\n",
              "    document.body.appendChild(element);\n",
              "  }\n",
              "\n",
              "  const js_urls = [\"https://cdn.bokeh.org/bokeh/release/bokeh-3.7.3.min.js\", \"https://cdn.bokeh.org/bokeh/release/bokeh-gl-3.7.3.min.js\", \"https://cdn.bokeh.org/bokeh/release/bokeh-widgets-3.7.3.min.js\", \"https://cdn.bokeh.org/bokeh/release/bokeh-tables-3.7.3.min.js\", \"https://cdn.bokeh.org/bokeh/release/bokeh-mathjax-3.7.3.min.js\"];\n",
              "  const css_urls = [];\n",
              "\n",
              "  const inline_js = [    function(Bokeh) {\n",
              "      Bokeh.set_log_level(\"info\");\n",
              "    },\n",
              "function(Bokeh) {\n",
              "    }\n",
              "  ];\n",
              "\n",
              "  function run_inline_js() {\n",
              "    if (root.Bokeh !== undefined || force === true) {\n",
              "      try {\n",
              "            for (let i = 0; i < inline_js.length; i++) {\n",
              "      inline_js[i].call(root, root.Bokeh);\n",
              "    }\n",
              "\n",
              "      } catch (error) {throw error;\n",
              "      }} else if (Date.now() < root._bokeh_timeout) {\n",
              "      setTimeout(run_inline_js, 100);\n",
              "    } else if (!root._bokeh_failed_load) {\n",
              "      console.log(\"Bokeh: BokehJS failed to load within specified timeout.\");\n",
              "      root._bokeh_failed_load = true;\n",
              "    } else if (force !== true) {\n",
              "      const cell = $(document.getElementById(null)).parents('.cell').data().cell;\n",
              "      cell.output_area.append_execute_result(NB_LOAD_WARNING)\n",
              "    }\n",
              "  }\n",
              "\n",
              "  if (root._bokeh_is_loading === 0) {\n",
              "    console.debug(\"Bokeh: BokehJS loaded, going straight to plotting\");\n",
              "    run_inline_js();\n",
              "  } else {\n",
              "    load_libs(css_urls, js_urls, function() {\n",
              "      console.debug(\"Bokeh: BokehJS plotting callback run at\", now());\n",
              "      run_inline_js();\n",
              "    });\n",
              "  }\n",
              "}(window));"
            ],
            "application/vnd.bokehjs_load.v0+json": "'use strict';\n(function(root) {\n  function now() {\n    return new Date();\n  }\n\n  const force = true;\n\n  if (typeof root._bokeh_onload_callbacks === \"undefined\" || force === true) {\n    root._bokeh_onload_callbacks = [];\n    root._bokeh_is_loading = undefined;\n  }\n\n\n  if (typeof (root._bokeh_timeout) === \"undefined\" || force === true) {\n    root._bokeh_timeout = Date.now() + 5000;\n    root._bokeh_failed_load = false;\n  }\n\n  const NB_LOAD_WARNING = {'data': {'text/html':\n     \"<div style='background-color: #fdd'>\\n\"+\n     \"<p>\\n\"+\n     \"BokehJS does not appear to have successfully loaded. If loading BokehJS from CDN, this \\n\"+\n     \"may be due to a slow or bad network connection. Possible fixes:\\n\"+\n     \"</p>\\n\"+\n     \"<ul>\\n\"+\n     \"<li>re-rerun `output_notebook()` to attempt to load from CDN again, or</li>\\n\"+\n     \"<li>use INLINE resources instead, as so:</li>\\n\"+\n     \"</ul>\\n\"+\n     \"<code>\\n\"+\n     \"from bokeh.resources import INLINE\\n\"+\n     \"output_notebook(resources=INLINE)\\n\"+\n     \"</code>\\n\"+\n     \"</div>\"}};\n\n  function display_loaded(error = null) {\n    const el = document.getElementById(null);\n    if (el != null) {\n      const html = (() => {\n        if (typeof root.Bokeh === \"undefined\") {\n          if (error == null) {\n            return \"BokehJS is loading ...\";\n          } else {\n            return \"BokehJS failed to load.\";\n          }\n        } else {\n          const prefix = `BokehJS ${root.Bokeh.version}`;\n          if (error == null) {\n            return `${prefix} successfully loaded.`;\n          } else {\n            return `${prefix} <b>encountered errors</b> while loading and may not function as expected.`;\n          }\n        }\n      })();\n      el.innerHTML = html;\n\n      if (error != null) {\n        const wrapper = document.createElement(\"div\");\n        wrapper.style.overflow = \"auto\";\n        wrapper.style.height = \"5em\";\n        wrapper.style.resize = \"vertical\";\n        const content = document.createElement(\"div\");\n        content.style.fontFamily = \"monospace\";\n        content.style.whiteSpace = \"pre-wrap\";\n        content.style.backgroundColor = \"rgb(255, 221, 221)\";\n        content.textContent = error.stack ?? error.toString();\n        wrapper.append(content);\n        el.append(wrapper);\n      }\n    } else if (Date.now() < root._bokeh_timeout) {\n      setTimeout(() => display_loaded(error), 100);\n    }\n  }\n\n  function run_callbacks() {\n    try {\n      root._bokeh_onload_callbacks.forEach(function(callback) {\n        if (callback != null)\n          callback();\n      });\n    } finally {\n      delete root._bokeh_onload_callbacks\n    }\n    console.debug(\"Bokeh: all callbacks have finished\");\n  }\n\n  function load_libs(css_urls, js_urls, callback) {\n    if (css_urls == null) css_urls = [];\n    if (js_urls == null) js_urls = [];\n\n    root._bokeh_onload_callbacks.push(callback);\n    if (root._bokeh_is_loading > 0) {\n      console.debug(\"Bokeh: BokehJS is being loaded, scheduling callback at\", now());\n      return null;\n    }\n    if (js_urls == null || js_urls.length === 0) {\n      run_callbacks();\n      return null;\n    }\n    console.debug(\"Bokeh: BokehJS not loaded, scheduling load and callback at\", now());\n    root._bokeh_is_loading = css_urls.length + js_urls.length;\n\n    function on_load() {\n      root._bokeh_is_loading--;\n      if (root._bokeh_is_loading === 0) {\n        console.debug(\"Bokeh: all BokehJS libraries/stylesheets loaded\");\n        run_callbacks()\n      }\n    }\n\n    function on_error(url) {\n      console.error(\"failed to load \" + url);\n    }\n\n    for (let i = 0; i < css_urls.length; i++) {\n      const url = css_urls[i];\n      const element = document.createElement(\"link\");\n      element.onload = on_load;\n      element.onerror = on_error.bind(null, url);\n      element.rel = \"stylesheet\";\n      element.type = \"text/css\";\n      element.href = url;\n      console.debug(\"Bokeh: injecting link tag for BokehJS stylesheet: \", url);\n      document.body.appendChild(element);\n    }\n\n    for (let i = 0; i < js_urls.length; i++) {\n      const url = js_urls[i];\n      const element = document.createElement('script');\n      element.onload = on_load;\n      element.onerror = on_error.bind(null, url);\n      element.async = false;\n      element.src = url;\n      console.debug(\"Bokeh: injecting script tag for BokehJS library: \", url);\n      document.head.appendChild(element);\n    }\n  };\n\n  function inject_raw_css(css) {\n    const element = document.createElement(\"style\");\n    element.appendChild(document.createTextNode(css));\n    document.body.appendChild(element);\n  }\n\n  const js_urls = [\"https://cdn.bokeh.org/bokeh/release/bokeh-3.7.3.min.js\", \"https://cdn.bokeh.org/bokeh/release/bokeh-gl-3.7.3.min.js\", \"https://cdn.bokeh.org/bokeh/release/bokeh-widgets-3.7.3.min.js\", \"https://cdn.bokeh.org/bokeh/release/bokeh-tables-3.7.3.min.js\", \"https://cdn.bokeh.org/bokeh/release/bokeh-mathjax-3.7.3.min.js\"];\n  const css_urls = [];\n\n  const inline_js = [    function(Bokeh) {\n      Bokeh.set_log_level(\"info\");\n    },\nfunction(Bokeh) {\n    }\n  ];\n\n  function run_inline_js() {\n    if (root.Bokeh !== undefined || force === true) {\n      try {\n            for (let i = 0; i < inline_js.length; i++) {\n      inline_js[i].call(root, root.Bokeh);\n    }\n\n      } catch (error) {throw error;\n      }} else if (Date.now() < root._bokeh_timeout) {\n      setTimeout(run_inline_js, 100);\n    } else if (!root._bokeh_failed_load) {\n      console.log(\"Bokeh: BokehJS failed to load within specified timeout.\");\n      root._bokeh_failed_load = true;\n    } else if (force !== true) {\n      const cell = $(document.getElementById(null)).parents('.cell').data().cell;\n      cell.output_area.append_execute_result(NB_LOAD_WARNING)\n    }\n  }\n\n  if (root._bokeh_is_loading === 0) {\n    console.debug(\"Bokeh: BokehJS loaded, going straight to plotting\");\n    run_inline_js();\n  } else {\n    load_libs(css_urls, js_urls, function() {\n      console.debug(\"Bokeh: BokehJS plotting callback run at\", now());\n      run_inline_js();\n    });\n  }\n}(window));"
          },
          "metadata": {}
        },
        {
          "output_type": "display_data",
          "data": {
            "text/html": [
              "\n",
              "  <div id=\"d5c1a4f0-9055-466f-b46c-e10dfdfbcf7a\" data-root-id=\"p1509\" style=\"display: contents;\"></div>\n"
            ]
          },
          "metadata": {}
        },
        {
          "output_type": "display_data",
          "data": {
            "application/javascript": [
              "(function(root) {\n",
              "  function embed_document(root) {\n",
              "  const docs_json = {\"ee000a16-014e-4883-8c27-5f7bab18e10c\":{\"version\":\"3.7.3\",\"title\":\"Bokeh Application\",\"roots\":[{\"type\":\"object\",\"name\":\"GridPlot\",\"id\":\"p1509\",\"attributes\":{\"rows\":null,\"cols\":null,\"sizing_mode\":\"stretch_width\",\"toolbar\":{\"type\":\"object\",\"name\":\"Toolbar\",\"id\":\"p1508\",\"attributes\":{\"tools\":[{\"type\":\"object\",\"name\":\"ToolProxy\",\"id\":\"p1497\",\"attributes\":{\"tools\":[{\"type\":\"object\",\"name\":\"PanTool\",\"id\":\"p1376\",\"attributes\":{\"dimensions\":\"width\"}},{\"type\":\"object\",\"name\":\"PanTool\",\"id\":\"p1423\",\"attributes\":{\"dimensions\":\"width\"}}]}},{\"type\":\"object\",\"name\":\"ToolProxy\",\"id\":\"p1498\",\"attributes\":{\"tools\":[{\"type\":\"object\",\"name\":\"WheelZoomTool\",\"id\":\"p1377\",\"attributes\":{\"dimensions\":\"width\",\"renderers\":\"auto\",\"maintain_focus\":false}},{\"type\":\"object\",\"name\":\"WheelZoomTool\",\"id\":\"p1424\",\"attributes\":{\"dimensions\":\"width\",\"renderers\":\"auto\",\"maintain_focus\":false}}]}},{\"type\":\"object\",\"name\":\"ToolProxy\",\"id\":\"p1499\",\"attributes\":{\"tools\":[{\"type\":\"object\",\"name\":\"WheelPanTool\",\"id\":\"p1378\"},{\"type\":\"object\",\"name\":\"WheelPanTool\",\"id\":\"p1425\"}]}},{\"type\":\"object\",\"name\":\"ToolProxy\",\"id\":\"p1500\",\"attributes\":{\"tools\":[{\"type\":\"object\",\"name\":\"BoxZoomTool\",\"id\":\"p1379\",\"attributes\":{\"dimensions\":\"both\",\"overlay\":{\"type\":\"object\",\"name\":\"BoxAnnotation\",\"id\":\"p1380\",\"attributes\":{\"syncable\":false,\"line_color\":\"black\",\"line_alpha\":1.0,\"line_width\":2,\"line_dash\":[4,4],\"fill_color\":\"lightgrey\",\"fill_alpha\":0.5,\"level\":\"overlay\",\"visible\":false,\"left\":{\"type\":\"number\",\"value\":\"nan\"},\"right\":{\"type\":\"number\",\"value\":\"nan\"},\"top\":{\"type\":\"number\",\"value\":\"nan\"},\"bottom\":{\"type\":\"number\",\"value\":\"nan\"},\"left_units\":\"canvas\",\"right_units\":\"canvas\",\"top_units\":\"canvas\",\"bottom_units\":\"canvas\",\"handles\":{\"type\":\"object\",\"name\":\"BoxInteractionHandles\",\"id\":\"p1386\",\"attributes\":{\"all\":{\"type\":\"object\",\"name\":\"AreaVisuals\",\"id\":\"p1385\",\"attributes\":{\"fill_color\":\"white\",\"hover_fill_color\":\"lightgray\"}}}}}}}},{\"type\":\"object\",\"name\":\"BoxZoomTool\",\"id\":\"p1426\",\"attributes\":{\"dimensions\":\"both\",\"overlay\":{\"type\":\"object\",\"name\":\"BoxAnnotation\",\"id\":\"p1427\",\"attributes\":{\"syncable\":false,\"line_color\":\"black\",\"line_alpha\":1.0,\"line_width\":2,\"line_dash\":[4,4],\"fill_color\":\"lightgrey\",\"fill_alpha\":0.5,\"level\":\"overlay\",\"visible\":false,\"left\":{\"type\":\"number\",\"value\":\"nan\"},\"right\":{\"type\":\"number\",\"value\":\"nan\"},\"top\":{\"type\":\"number\",\"value\":\"nan\"},\"bottom\":{\"type\":\"number\",\"value\":\"nan\"},\"left_units\":\"canvas\",\"right_units\":\"canvas\",\"top_units\":\"canvas\",\"bottom_units\":\"canvas\",\"handles\":{\"type\":\"object\",\"name\":\"BoxInteractionHandles\",\"id\":\"p1433\",\"attributes\":{\"all\":{\"type\":\"object\",\"name\":\"AreaVisuals\",\"id\":\"p1432\",\"attributes\":{\"fill_color\":\"white\",\"hover_fill_color\":\"lightgray\"}}}}}}}}]}},{\"type\":\"object\",\"name\":\"ToolProxy\",\"id\":\"p1501\",\"attributes\":{\"tools\":[{\"type\":\"object\",\"name\":\"UndoTool\",\"id\":\"p1387\"},{\"type\":\"object\",\"name\":\"UndoTool\",\"id\":\"p1434\"}]}},{\"type\":\"object\",\"name\":\"ToolProxy\",\"id\":\"p1502\",\"attributes\":{\"tools\":[{\"type\":\"object\",\"name\":\"RedoTool\",\"id\":\"p1388\"},{\"type\":\"object\",\"name\":\"RedoTool\",\"id\":\"p1435\"}]}},{\"type\":\"object\",\"name\":\"ToolProxy\",\"id\":\"p1503\",\"attributes\":{\"tools\":[{\"type\":\"object\",\"name\":\"ResetTool\",\"id\":\"p1389\"},{\"type\":\"object\",\"name\":\"ResetTool\",\"id\":\"p1436\"}]}},{\"type\":\"object\",\"name\":\"SaveTool\",\"id\":\"p1504\"},{\"type\":\"object\",\"name\":\"ToolProxy\",\"id\":\"p1505\",\"attributes\":{\"tools\":[{\"type\":\"object\",\"name\":\"HoverTool\",\"id\":\"p1492\",\"attributes\":{\"renderers\":[{\"type\":\"object\",\"name\":\"GlyphRenderer\",\"id\":\"p1488\",\"attributes\":{\"data_source\":{\"type\":\"object\",\"name\":\"ColumnDataSource\",\"id\":\"p1391\",\"attributes\":{\"selected\":{\"type\":\"object\",\"name\":\"Selection\",\"id\":\"p1392\",\"attributes\":{\"indices\":[],\"line_indices\":[]}},\"selection_policy\":{\"type\":\"object\",\"name\":\"UnionRenderers\",\"id\":\"p1393\"},\"data\":{\"type\":\"map\",\"entries\":[[\"index\",{\"type\":\"ndarray\",\"array\":{\"type\":\"bytes\",\"data\":\"AAAAAAEAAAACAAAAAwAAAAQAAAAFAAAABgAAAAcAAAAIAAAACQAAAAoAAAALAAAADAAAAA0AAAAOAAAADwAAABAAAAARAAAAEgAAABMAAAAUAAAAFQAAABYAAAAXAAAAGAAAABkAAAAaAAAAGwAAABwAAAAdAAAAHgAAAB8AAAAgAAAAIQAAACIAAAAjAAAAJAAAACUAAAAmAAAAJwAAACgAAAApAAAAKgAAACsAAAAsAAAALQAAAC4AAAAvAAAAMAAAADEAAAAyAAAAMwAAADQAAAA1AAAANgAAADcAAAA4AAAAOQAAADoAAAA7AAAAPAAAAD0AAAA+AAAAPwAAAEAAAABBAAAAQgAAAEMAAABEAAAARQAAAEYAAABHAAAASAAAAEkAAABKAAAASwAAAEwAAABNAAAATgAAAE8AAABQAAAAUQAAAFIAAABTAAAAVAAAAFUAAABWAAAAVwAAAFgAAABZAAAAWgAAAFsAAABcAAAAXQAAAF4AAABfAAAAYAAAAGEAAABiAAAAYwAAAGQAAABlAAAAZgAAAGcAAABoAAAAaQAAAGoAAABrAAAAbAAAAG0AAABuAAAAbwAAAHAAAABxAAAAcgAAAHMAAAB0AAAAdQAAAHYAAAB3AAAAeAAAAHkAAAB6AAAAewAAAHwAAAB9AAAAfgAAAH8AAACAAAAAgQAAAIIAAACDAAAAhAAAAIUAAACGAAAAhwAAAIgAAACJAAAAigAAAIsAAACMAAAAjQAAAI4AAACPAAAAkAAAAJEAAACSAAAAkwAAAJQAAACVAAAAlgAAAJcAAACYAAAAmQAAAJoAAACbAAAAnAAAAJ0AAACeAAAAnwAAAKAAAAChAAAAogAAAKMAAACkAAAApQAAAKYAAACnAAAAqAAAAKkAAACqAAAAqwAAAKwAAACtAAAArgAAAK8AAACwAAAAsQAAALIAAACzAAAAtAAAALUAAAC2AAAAtwAAALgAAAC5AAAAugAAALsAAAC8AAAAvQAAAL4AAAC/AAAAwAAAAMEAAADCAAAAwwAAAMQAAADFAAAAxgAAAMcAAADIAAAAyQAAAMoAAADLAAAAzAAAAM0AAADOAAAAzwAAANAAAADRAAAA0gAAANMAAADUAAAA1QAAANYAAADXAAAA2AAAAA==\"},\"shape\":[217],\"dtype\":\"int32\",\"order\":\"little\"}],[\"Open\",{\"type\":\"ndarray\",\"array\":{\"type\":\"bytes\",\"data\":\"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\"},\"shape\":[217],\"dtype\":\"float64\",\"order\":\"little\"}],[\"High\",{\"type\":\"ndarray\",\"array\":{\"type\":\"bytes\",\"data\":\"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\"},\"shape\":[217],\"dtype\":\"float64\",\"order\":\"little\"}],[\"Low\",{\"type\":\"ndarray\",\"array\":{\"type\":\"bytes\",\"data\":\"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\"},\"shape\":[217],\"dtype\":\"float64\",\"order\":\"little\"}],[\"Close\",{\"type\":\"ndarray\",\"array\":{\"type\":\"bytes\",\"data\":\"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\"},\"shape\":[217],\"dtype\":\"float64\",\"order\":\"little\"}],[\"Volume\",{\"type\":\"ndarray\",\"array\":{\"type\":\"bytes\",\"data\":\"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\"},\"shape\":[217],\"dtype\":\"float64\",\"order\":\"little\"}],[\"datetime\",{\"type\":\"ndarray\",\"array\":{\"type\":\"bytes\",\"data\":\"AABAVdEWeUIAAAC7Ixd5QgAAwCB2F3lCAACAhsgXeUIAAMC3vxh5QgAAgB0SGXlCAABAg2QZeUIAAADpthl5QgAAwE4JGnlCAADA5VIbeUIAAIBLpRt5QgAAQLH3G3lCAAAAF0oceUIAAEBIQR15QgAAAK6THXlCAADAE+YdeUIAAIB5OB55QgAAQN+KHnlCAACAEIIfeUIAAEB21B95QgAAANwmIHlCAADAQXkgeUIAAICnyyB5QgAAwNjCIXlCAACAPhUieUIAAECkZyJ5QgAAAAq6InlCAADAbwwjeUIAAAChAyR5QgAAwAZWJHlCAACAbKgkeUIAAEDS+iR5QgAAADhNJXlCAABAaUQmeUIAAADPliZ5QgAAwDTpJnlCAACAmjsneUIAAEAAjid5QgAAgDGFKHlCAABAl9coeUIAAAD9KSl5QgAAwGJ8KXlCAACAyM4peUIAAMD5xSp5QgAAgF8YK3lCAABAxWoreUIAAAArvSt5QgAAwJAPLHlCAAAAwgYteUIAAMAnWS15QgAAgI2rLXlCAABA8/0teUIAAABZUC55QgAAQIpHL3lCAAAA8JkveUIAAMBV7C95QgAAgLs+MHlCAABAIZEweUIAAIBSiDF5QgAAQLjaMXlCAAAAHi0yeUIAAMCDfzJ5QgAAgOnRMnlCAADAGskzeUIAAICAGzR5QgAAQOZtNHlCAAAATMA0eUIAAMCxEjV5QgAAAOMJNnlCAADASFw2eUIAAICurjZ5QgAAAHpTN3lCAABAq0o4eUIAAAARnTh5QgAAwHbvOHlCAACA3EE5eUIAAEBClDl5QgAAgHOLOnlCAABA2d06eUIAAAA/MDt5QgAAwKSCO3lCAACACtU7eUIAAMA7zDx5QgAAgKEePXlCAABAB3E9eUIAAABtwz15QgAAwNIVPnlCAAAABA0/eUIAAMBpXz95QgAAQDUEQHlCAAAAm1ZAeUIAAEDMTUF5QgAAADKgQXlCAACA/URCeUIAAEBjl0J5QgAAgJSOQ3lCAABA+uBDeUIAAABgM0R5QgAAgCvYRHlCAADAXM9FeUIAAIDCIUZ5QgAAQCh0RnlCAAAAjsZGeUIAAMDzGEd5QgAAwIpiSHlCAACA8LRIeUIAAEBWB0l5QgAAALxZSXlCAABA7VBKeUIAAABTo0p5QgAAwLj1SnlCAACAHkhLeUIAAECEmkt5QgAAgLWRTHlCAABAG+RMeUIAAACBNk15QgAAwOaITXlCAACATNtNeUIAAMB90k55QgAAgOMkT3lCAABASXdPeUIAAACvyU95QgAAwBQcUHlCAADAq2VReUIAAIARuFF5QgAAQHcKUnlCAAAA3VxSeUIAAEAOVFN5QgAAAHSmU3lCAADA2fhTeUIAAIA/S1R5QgAAQKWdVHlCAACA1pRVeUIAAEA851V5QgAAAKI5VnlCAADAB4xWeUIAAIBt3lZ5QgAAwJ7VV3lCAACABChYeUIAAEBqelh5QgAAANDMWHlCAADANR9ZeUIAAABnFlp5QgAAwMxoWnlCAACAMrtaeUIAAECYDVt5QgAAAP5fW3lCAABAL1dceUIAAACVqVx5QgAAwPr7XHlCAACAYE5deUIAAEDGoF15QgAAgPeXXnlCAABAXepeeUIAAADDPF95QgAAwCiPX3lCAACAjuFfeUIAAMC/2GB5QgAAgCUrYXlCAABAi31heUIAAADxz2F5QgAAwFYiYnlCAAAAiBljeUIAAMDta2N5QgAAgFO+Y3lCAABAuRBkeUIAAEBQWmV5QgAAALasZXlCAADAG/9leUIAAICBUWZ5QgAAQOejZnlCAACAGJtneUIAAEB+7Wd5QgAAAOQ/aHlCAADASZJoeUIAAICv5Gh5QgAAwODbaXlCAACARi5qeUIAAECsgGp5QgAAABLTanlCAADAdyVreUIAAACpHGx5QgAAwA5vbHlCAACAdMFseUIAAEDaE215QgAAAEBmbXlCAABAcV1ueUIAAADXr255QgAAwDwCb3lCAACAolRveUIAAEAIp295QgAAQJ/wcHlCAAAABUNxeUIAAMBqlXF5QgAAgNDncXlCAADAAd9yeUIAAIBnMXN5QgAAQM2Dc3lCAAAAM9ZzeUIAAMCYKHR5QgAAAMofdXlCAADAL3J1eUIAAICVxHV5QgAAQPsWdnlCAAAAYWl2eUIAAECSYHd5QgAAAPiyd3lCAADAXQV4eUIAAEApqnh5QgAAgFqheXlCAABAwPN5eUIAAAAmRnp5QgAAwIuYenlCAACA8ep6eUIAAMAi4nt5QgAAgIg0fHlCAABA7oZ8eUI=\"},\"shape\":[217],\"dtype\":\"float64\",\"order\":\"little\"}],[\"inc\",{\"type\":\"ndarray\",\"array\":[\"0\",\"1\",\"0\",\"1\",\"0\",\"1\",\"0\",\"0\",\"1\",\"0\",\"1\",\"0\",\"0\",\"1\",\"1\",\"1\",\"1\",\"1\",\"1\",\"0\",\"0\",\"0\",\"1\",\"1\",\"1\",\"0\",\"0\",\"0\",\"1\",\"0\",\"1\",\"1\",\"1\",\"0\",\"1\",\"1\",\"1\",\"1\",\"1\",\"0\",\"1\",\"0\",\"1\",\"0\",\"1\",\"0\",\"0\",\"0\",\"0\",\"1\",\"0\",\"0\",\"0\",\"0\",\"1\",\"1\",\"1\",\"1\",\"0\",\"0\",\"0\",\"0\",\"0\",\"1\",\"1\",\"1\",\"1\",\"1\",\"0\",\"1\",\"0\",\"1\",\"1\",\"1\",\"1\",\"0\",\"1\",\"0\",\"0\",\"1\",\"0\",\"0\",\"1\",\"1\",\"0\",\"0\",\"1\",\"1\",\"1\",\"1\",\"0\",\"1\",\"0\",\"0\",\"1\",\"0\",\"0\",\"1\",\"0\",\"1\",\"0\",\"1\",\"0\",\"1\",\"1\",\"1\",\"1\",\"0\",\"1\",\"1\",\"0\",\"1\",\"0\",\"1\",\"1\",\"1\",\"1\",\"0\",\"1\",\"1\",\"1\",\"1\",\"0\",\"1\",\"1\",\"0\",\"0\",\"0\",\"0\",\"0\",\"0\",\"1\",\"0\",\"0\",\"1\",\"0\",\"1\",\"0\",\"0\",\"0\",\"0\",\"1\",\"1\",\"0\",\"1\",\"1\",\"1\",\"1\",\"1\",\"0\",\"0\",\"0\",\"1\",\"1\",\"1\",\"0\",\"0\",\"1\",\"0\",\"1\",\"0\",\"1\",\"0\",\"0\",\"0\",\"0\",\"0\",\"1\",\"0\",\"1\",\"1\",\"0\",\"1\",\"1\",\"0\",\"1\",\"1\",\"1\",\"1\",\"0\",\"0\",\"1\",\"1\",\"0\",\"1\",\"1\",\"1\",\"0\",\"0\",\"1\",\"1\",\"1\",\"0\",\"0\",\"1\",\"1\",\"1\",\"0\",\"0\",\"1\",\"0\",\"1\",\"0\",\"1\",\"0\",\"1\",\"0\",\"0\",\"0\",\"1\",\"1\",\"0\",\"1\",\"1\",\"1\",\"1\",\"1\"],\"shape\":[217],\"dtype\":\"object\",\"order\":\"little\"}],[\"ohlc_low\",{\"type\":\"ndarray\",\"array\":{\"type\":\"bytes\",\"data\":\"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\"},\"shape\":[217],\"dtype\":\"float64\",\"order\":\"little\"}],[\"ohlc_high\",{\"type\":\"ndarray\",\"array\":{\"type\":\"bytes\",\"data\":\"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\"},\"shape\":[217],\"dtype\":\"float64\",\"order\":\"little\"}]]}}},\"view\":{\"type\":\"object\",\"name\":\"CDSView\",\"id\":\"p1489\",\"attributes\":{\"filter\":{\"type\":\"object\",\"name\":\"AllIndices\",\"id\":\"p1490\"}}},\"glyph\":{\"type\":\"object\",\"name\":\"VBar\",\"id\":\"p1485\",\"attributes\":{\"x\":{\"type\":\"field\",\"field\":\"index\"},\"width\":{\"type\":\"value\",\"value\":0.8},\"bottom\":{\"type\":\"field\",\"field\":\"Close\"},\"top\":{\"type\":\"field\",\"field\":\"Open\"},\"fill_color\":{\"type\":\"field\",\"field\":\"inc\",\"transform\":{\"type\":\"object\",\"name\":\"CategoricalColorMapper\",\"id\":\"p1397\",\"attributes\":{\"palette\":[\"tomato\",\"lime\"],\"factors\":[\"0\",\"1\"]}}}}},\"nonselection_glyph\":{\"type\":\"object\",\"name\":\"VBar\",\"id\":\"p1486\",\"attributes\":{\"x\":{\"type\":\"field\",\"field\":\"index\"},\"width\":{\"type\":\"value\",\"value\":0.8},\"bottom\":{\"type\":\"field\",\"field\":\"Close\"},\"top\":{\"type\":\"field\",\"field\":\"Open\"},\"line_alpha\":{\"type\":\"value\",\"value\":0.1},\"fill_color\":{\"type\":\"field\",\"field\":\"inc\",\"transform\":{\"id\":\"p1397\"}},\"fill_alpha\":{\"type\":\"value\",\"value\":0.1},\"hatch_alpha\":{\"type\":\"value\",\"value\":0.1}}},\"muted_glyph\":{\"type\":\"object\",\"name\":\"VBar\",\"id\":\"p1487\",\"attributes\":{\"x\":{\"type\":\"field\",\"field\":\"index\"},\"width\":{\"type\":\"value\",\"value\":0.8},\"bottom\":{\"type\":\"field\",\"field\":\"Close\"},\"top\":{\"type\":\"field\",\"field\":\"Open\"},\"line_alpha\":{\"type\":\"value\",\"value\":0.2},\"fill_color\":{\"type\":\"field\",\"field\":\"inc\",\"transform\":{\"id\":\"p1397\"}},\"fill_alpha\":{\"type\":\"value\",\"value\":0.2},\"hatch_alpha\":{\"type\":\"value\",\"value\":0.2}}}}}],\"tooltips\":[[\"Date\",\"@datetime{%c}\"],[\"x, y\",\"$index\\u00a0\\u00a0\\u00a0\\u00a0$y{0,0.0[0000]}\"],[\"OHLC\",\"@Open{0,0.0[0000]}\\u00a0\\u00a0\\u00a0\\u00a0@High{0,0.0[0000]}\\u00a0\\u00a0\\u00a0\\u00a0@Low{0,0.0[0000]}\\u00a0\\u00a0\\u00a0\\u00a0@Close{0,0.0[0000]}\"],[\"Volume\",\"@Volume{0,0}\"]],\"formatters\":{\"type\":\"map\",\"entries\":[[\"@datetime\",\"datetime\"]]},\"mode\":\"vline\",\"point_policy\":\"follow_mouse\"}}]}},{\"type\":\"object\",\"name\":\"ToolProxy\",\"id\":\"p1506\",\"attributes\":{\"tools\":[{\"type\":\"object\",\"name\":\"HoverTool\",\"id\":\"p1447\",\"attributes\":{\"renderers\":[{\"type\":\"object\",\"name\":\"GlyphRenderer\",\"id\":\"p1444\",\"attributes\":{\"data_source\":{\"id\":\"p1391\"},\"view\":{\"type\":\"object\",\"name\":\"CDSView\",\"id\":\"p1445\",\"attributes\":{\"filter\":{\"type\":\"object\",\"name\":\"AllIndices\",\"id\":\"p1446\"}}},\"glyph\":{\"type\":\"object\",\"name\":\"VBar\",\"id\":\"p1441\",\"attributes\":{\"x\":{\"type\":\"field\",\"field\":\"index\"},\"width\":{\"type\":\"value\",\"value\":0.8},\"top\":{\"type\":\"field\",\"field\":\"Volume\"},\"line_color\":{\"type\":\"field\",\"field\":\"inc\",\"transform\":{\"id\":\"p1397\"}},\"fill_color\":{\"type\":\"field\",\"field\":\"inc\",\"transform\":{\"id\":\"p1397\"}},\"hatch_color\":{\"type\":\"field\",\"field\":\"inc\",\"transform\":{\"id\":\"p1397\"}}}},\"nonselection_glyph\":{\"type\":\"object\",\"name\":\"VBar\",\"id\":\"p1442\",\"attributes\":{\"x\":{\"type\":\"field\",\"field\":\"index\"},\"width\":{\"type\":\"value\",\"value\":0.8},\"top\":{\"type\":\"field\",\"field\":\"Volume\"},\"line_color\":{\"type\":\"field\",\"field\":\"inc\",\"transform\":{\"id\":\"p1397\"}},\"line_alpha\":{\"type\":\"value\",\"value\":0.1},\"fill_color\":{\"type\":\"field\",\"field\":\"inc\",\"transform\":{\"id\":\"p1397\"}},\"fill_alpha\":{\"type\":\"value\",\"value\":0.1},\"hatch_color\":{\"type\":\"field\",\"field\":\"inc\",\"transform\":{\"id\":\"p1397\"}},\"hatch_alpha\":{\"type\":\"value\",\"value\":0.1}}},\"muted_glyph\":{\"type\":\"object\",\"name\":\"VBar\",\"id\":\"p1443\",\"attributes\":{\"x\":{\"type\":\"field\",\"field\":\"index\"},\"width\":{\"type\":\"value\",\"value\":0.8},\"top\":{\"type\":\"field\",\"field\":\"Volume\"},\"line_color\":{\"type\":\"field\",\"field\":\"inc\",\"transform\":{\"id\":\"p1397\"}},\"line_alpha\":{\"type\":\"value\",\"value\":0.2},\"fill_color\":{\"type\":\"field\",\"field\":\"inc\",\"transform\":{\"id\":\"p1397\"}},\"fill_alpha\":{\"type\":\"value\",\"value\":0.2},\"hatch_color\":{\"type\":\"field\",\"field\":\"inc\",\"transform\":{\"id\":\"p1397\"}},\"hatch_alpha\":{\"type\":\"value\",\"value\":0.2}}}}}],\"tooltips\":[[\"Date\",\"@datetime{%c}\"],[\"Volume\",\"@Volume{0.00 a}\"]],\"formatters\":{\"type\":\"map\",\"entries\":[[\"@datetime\",\"datetime\"]]},\"mode\":\"vline\",\"point_policy\":\"follow_mouse\"}}]}},{\"type\":\"object\",\"name\":\"ToolProxy\",\"id\":\"p1507\",\"attributes\":{\"tools\":[{\"type\":\"object\",\"name\":\"CrosshairTool\",\"id\":\"p1496\",\"attributes\":{\"overlay\":[{\"type\":\"object\",\"name\":\"Span\",\"id\":\"p1494\",\"attributes\":{\"line_dash\":[2,4]}},{\"type\":\"object\",\"name\":\"Span\",\"id\":\"p1495\",\"attributes\":{\"dimension\":\"height\",\"line_dash\":[2,4]}}],\"line_color\":\"lightgrey\"}},{\"id\":\"p1496\"}]}}],\"logo\":null,\"active_drag\":{\"id\":\"p1497\"},\"active_scroll\":{\"id\":\"p1498\"}}},\"toolbar_location\":\"right\",\"children\":[[{\"type\":\"object\",\"name\":\"Figure\",\"id\":\"p1355\",\"attributes\":{\"width\":null,\"height\":400,\"sizing_mode\":\"stretch_width\",\"x_range\":{\"type\":\"object\",\"name\":\"Range1d\",\"id\":\"p1354\",\"attributes\":{\"js_property_callbacks\":{\"type\":\"map\",\"entries\":[[\"change:end\",[{\"type\":\"object\",\"name\":\"CustomJS\",\"id\":\"p1493\",\"attributes\":{\"args\":{\"type\":\"map\",\"entries\":[[\"ohlc_range\",{\"type\":\"object\",\"name\":\"DataRange1d\",\"id\":\"p1357\"}],[\"source\",{\"id\":\"p1391\"}],[\"volume_range\",{\"type\":\"object\",\"name\":\"DataRange1d\",\"id\":\"p1404\"}]]},\"code\":\"if (!window._bt_scale_range) {\\n    window._bt_scale_range = function (range, min, max, pad) {\\n        \\\"use strict\\\";\\n        if (min !== Infinity && max !== -Infinity) {\\n            pad = pad ? (max - min) * .03 : 0;\\n            range.start = min - pad;\\n            range.end = max + pad;\\n        } else console.error('backtesting: scale range error:', min, max, range);\\n    };\\n}\\n\\nclearTimeout(window._bt_autoscale_timeout);\\n\\nwindow._bt_autoscale_timeout = setTimeout(function () {\\n    /**\\n     * @variable cb_obj `fig_ohlc.x_range`.\\n     * @variable source `ColumnDataSource`\\n     * @variable ohlc_range `fig_ohlc.y_range`.\\n     * @variable volume_range `fig_volume.y_range`.\\n     */\\n    \\\"use strict\\\";\\n\\n    let i = Math.max(Math.floor(cb_obj.start), 0),\\n        j = Math.min(Math.ceil(cb_obj.end), source.data['ohlc_high'].length);\\n\\n    let max = Math.max.apply(null, source.data['ohlc_high'].slice(i, j)),\\n        min = Math.min.apply(null, source.data['ohlc_low'].slice(i, j));\\n    _bt_scale_range(ohlc_range, min, max, true);\\n\\n    if (volume_range) {\\n        max = Math.max.apply(null, source.data['Volume'].slice(i, j));\\n        _bt_scale_range(volume_range, 0, max * 1.03, false);\\n    }\\n\\n}, 50);\\n\"}}]]]},\"end\":216,\"bounds\":[-10.8,226.8],\"min_interval\":10}},\"y_range\":{\"id\":\"p1357\"},\"x_scale\":{\"type\":\"object\",\"name\":\"LinearScale\",\"id\":\"p1364\"},\"y_scale\":{\"type\":\"object\",\"name\":\"LinearScale\",\"id\":\"p1365\"},\"title\":{\"type\":\"object\",\"name\":\"Title\",\"id\":\"p1362\"},\"outline_line_color\":\"#666666\",\"renderers\":[{\"type\":\"object\",\"name\":\"GlyphRenderer\",\"id\":\"p1458\",\"attributes\":{\"data_source\":{\"type\":\"object\",\"name\":\"ColumnDataSource\",\"id\":\"p1449\",\"attributes\":{\"selected\":{\"type\":\"object\",\"name\":\"Selection\",\"id\":\"p1450\",\"attributes\":{\"indices\":[],\"line_indices\":[]}},\"selection_policy\":{\"type\":\"object\",\"name\":\"UnionRenderers\",\"id\":\"p1451\"},\"data\":{\"type\":\"map\",\"entries\":[[\"index\",{\"type\":\"ndarray\",\"array\":{\"type\":\"bytes\",\"data\":\"AAAAAAAAEEAAAAAAAIAyQAAAAAAAAERAAAAAAADATkAAAAAAAIBUQAAAAAAAoFlAAAAAAACAXkAAAAAAAMBhQAAAAAAAYGRAAAAAAAAAZ0AAAAAAAJBpQAAAAAAA8GpA\"},\"shape\":[12],\"dtype\":\"float64\",\"order\":\"little\"}],[\"Open\",{\"type\":\"ndarray\",\"array\":{\"type\":\"bytes\",\"data\":\"FQyGyStCgUD2T5C+mUyBQFIhpZqqwIFAwxmpDi6wgUAYOrMoCKuCQGvPVzwfT4JAgJxIxTRpgkATGKGVHoWCQCLFrH90XoFAOcLEB791gUB3vLJhOFCCQAAAAEDhQoNA\"},\"shape\":[12],\"dtype\":\"float64\",\"order\":\"little\"}],[\"High\",{\"type\":\"ndarray\",\"array\":{\"type\":\"bytes\",\"data\":\"CqMDBhNqgUCuht97DMuBQF0DnIh7JYJAcHH3TguugkDQKZIyYduCQIcmtdM5+YJA760VmrUMg0Bcij46WI6CQOu3ht76rYFA56uw1UaOgkAAAACAwlmDQAAAAADXY4NA\"},\"shape\":[12],\"dtype\":\"float64\",\"order\":\"little\"}],[\"Low\",{\"type\":\"ndarray\",\"array\":{\"type\":\"bytes\",\"data\":\"ZrFC5T4fgUDarKdNbqaAQD3HKKw6gIFAA/XSlf6UgUATyAtHrwuCQN4c2/N334FAG7rBJNoXgkD1j2h0EAqBQMhZKt0TBn5AKegNOTVTgUAj+EQOrzqCQAAAAAApPINA\"},\"shape\":[12],\"dtype\":\"float64\",\"order\":\"little\"}],[\"Close\",{\"type\":\"ndarray\",\"array\":{\"type\":\"bytes\",\"data\":\"AAAAIPdlgUAAAADghMOBQAAAAIDwmoFAAAAAILSngkAAAACgzDSCQAAAAMD4sYJAAAAA4DZ1gkAAAADg7W2BQAAAAGA+R4FAAAAA4DhdgkAAAADAzE6DQAAAAKCZY4NA\"},\"shape\":[12],\"dtype\":\"float64\",\"order\":\"little\"}],[\"Volume\",{\"type\":\"ndarray\",\"array\":{\"type\":\"bytes\",\"data\":\"AAAAUEVst0EAAACMLyXPQQAAAGDQFs1BAAAAHITgykEAAACOeJPPQQAAAFzfq81BAAAAahj6yUEAAAAKC03WQQAAAHiGquBBAAAALt3k1EEAAACGiUjWQQAAACgD355B\"},\"shape\":[12],\"dtype\":\"float64\",\"order\":\"little\"}],[\"_width\",{\"type\":\"ndarray\",\"array\":{\"type\":\"bytes\",\"data\":\"zczMzMzMIUBmZmZmZuYzQGZmZmZm5jZAZmZmZmbmM0BmZmZmZuY0QGZmZmZm5jNAZmZmZmbmMkBmZmZmZuY0QGZmZmZm5jRAZmZmZmbmNEBmZmZmZuYzQGZmZmZmZv4/\"},\"shape\":[12],\"dtype\":\"float64\",\"order\":\"little\"}],[\"inc\",{\"type\":\"ndarray\",\"array\":[\"1\",\"1\",\"0\",\"1\",\"0\",\"1\",\"1\",\"0\",\"0\",\"1\",\"1\",\"1\"],\"shape\":[12],\"dtype\":\"object\",\"order\":\"little\"}]]}}},\"view\":{\"type\":\"object\",\"name\":\"CDSView\",\"id\":\"p1459\",\"attributes\":{\"filter\":{\"type\":\"object\",\"name\":\"AllIndices\",\"id\":\"p1460\"}}},\"glyph\":{\"type\":\"object\",\"name\":\"Segment\",\"id\":\"p1455\",\"attributes\":{\"x0\":{\"type\":\"field\",\"field\":\"index\"},\"y0\":{\"type\":\"field\",\"field\":\"High\"},\"x1\":{\"type\":\"field\",\"field\":\"index\"},\"y1\":{\"type\":\"field\",\"field\":\"Low\"},\"line_color\":{\"type\":\"value\",\"value\":\"#bbbbbb\"}}},\"nonselection_glyph\":{\"type\":\"object\",\"name\":\"Segment\",\"id\":\"p1456\",\"attributes\":{\"x0\":{\"type\":\"field\",\"field\":\"index\"},\"y0\":{\"type\":\"field\",\"field\":\"High\"},\"x1\":{\"type\":\"field\",\"field\":\"index\"},\"y1\":{\"type\":\"field\",\"field\":\"Low\"},\"line_color\":{\"type\":\"value\",\"value\":\"#bbbbbb\"},\"line_alpha\":{\"type\":\"value\",\"value\":0.1}}},\"muted_glyph\":{\"type\":\"object\",\"name\":\"Segment\",\"id\":\"p1457\",\"attributes\":{\"x0\":{\"type\":\"field\",\"field\":\"index\"},\"y0\":{\"type\":\"field\",\"field\":\"High\"},\"x1\":{\"type\":\"field\",\"field\":\"index\"},\"y1\":{\"type\":\"field\",\"field\":\"Low\"},\"line_color\":{\"type\":\"value\",\"value\":\"#bbbbbb\"},\"line_alpha\":{\"type\":\"value\",\"value\":0.2}}}}},{\"type\":\"object\",\"name\":\"GlyphRenderer\",\"id\":\"p1468\",\"attributes\":{\"data_source\":{\"id\":\"p1449\"},\"view\":{\"type\":\"object\",\"name\":\"CDSView\",\"id\":\"p1469\",\"attributes\":{\"filter\":{\"type\":\"object\",\"name\":\"AllIndices\",\"id\":\"p1470\"}}},\"glyph\":{\"type\":\"object\",\"name\":\"VBar\",\"id\":\"p1465\",\"attributes\":{\"x\":{\"type\":\"field\",\"field\":\"index\"},\"width\":{\"type\":\"field\",\"field\":\"_width\"},\"bottom\":{\"type\":\"field\",\"field\":\"Close\"},\"top\":{\"type\":\"field\",\"field\":\"Open\"},\"line_color\":{\"type\":\"value\",\"value\":null},\"fill_color\":{\"type\":\"field\",\"field\":\"inc\",\"transform\":{\"type\":\"object\",\"name\":\"CategoricalColorMapper\",\"id\":\"p1461\",\"attributes\":{\"palette\":[\"rgb(254, 220, 214)\",\"rgb(214, 254, 214)\"],\"factors\":[\"0\",\"1\"]}}}}},\"nonselection_glyph\":{\"type\":\"object\",\"name\":\"VBar\",\"id\":\"p1466\",\"attributes\":{\"x\":{\"type\":\"field\",\"field\":\"index\"},\"width\":{\"type\":\"field\",\"field\":\"_width\"},\"bottom\":{\"type\":\"field\",\"field\":\"Close\"},\"top\":{\"type\":\"field\",\"field\":\"Open\"},\"line_color\":{\"type\":\"value\",\"value\":null},\"line_alpha\":{\"type\":\"value\",\"value\":0.1},\"fill_color\":{\"type\":\"field\",\"field\":\"inc\",\"transform\":{\"id\":\"p1461\"}},\"fill_alpha\":{\"type\":\"value\",\"value\":0.1},\"hatch_alpha\":{\"type\":\"value\",\"value\":0.1}}},\"muted_glyph\":{\"type\":\"object\",\"name\":\"VBar\",\"id\":\"p1467\",\"attributes\":{\"x\":{\"type\":\"field\",\"field\":\"index\"},\"width\":{\"type\":\"field\",\"field\":\"_width\"},\"bottom\":{\"type\":\"field\",\"field\":\"Close\"},\"top\":{\"type\":\"field\",\"field\":\"Open\"},\"line_color\":{\"type\":\"value\",\"value\":null},\"line_alpha\":{\"type\":\"value\",\"value\":0.2},\"fill_color\":{\"type\":\"field\",\"field\":\"inc\",\"transform\":{\"id\":\"p1461\"}},\"fill_alpha\":{\"type\":\"value\",\"value\":0.2},\"hatch_alpha\":{\"type\":\"value\",\"value\":0.2}}}}},{\"type\":\"object\",\"name\":\"GlyphRenderer\",\"id\":\"p1477\",\"attributes\":{\"data_source\":{\"id\":\"p1391\"},\"view\":{\"type\":\"object\",\"name\":\"CDSView\",\"id\":\"p1478\",\"attributes\":{\"filter\":{\"type\":\"object\",\"name\":\"AllIndices\",\"id\":\"p1479\"}}},\"glyph\":{\"type\":\"object\",\"name\":\"Segment\",\"id\":\"p1474\",\"attributes\":{\"x0\":{\"type\":\"field\",\"field\":\"index\"},\"y0\":{\"type\":\"field\",\"field\":\"High\"},\"x1\":{\"type\":\"field\",\"field\":\"index\"},\"y1\":{\"type\":\"field\",\"field\":\"Low\"}}},\"nonselection_glyph\":{\"type\":\"object\",\"name\":\"Segment\",\"id\":\"p1475\",\"attributes\":{\"x0\":{\"type\":\"field\",\"field\":\"index\"},\"y0\":{\"type\":\"field\",\"field\":\"High\"},\"x1\":{\"type\":\"field\",\"field\":\"index\"},\"y1\":{\"type\":\"field\",\"field\":\"Low\"},\"line_alpha\":{\"type\":\"value\",\"value\":0.1}}},\"muted_glyph\":{\"type\":\"object\",\"name\":\"Segment\",\"id\":\"p1476\",\"attributes\":{\"x0\":{\"type\":\"field\",\"field\":\"index\"},\"y0\":{\"type\":\"field\",\"field\":\"High\"},\"x1\":{\"type\":\"field\",\"field\":\"index\"},\"y1\":{\"type\":\"field\",\"field\":\"Low\"},\"line_alpha\":{\"type\":\"value\",\"value\":0.2}}}}},{\"id\":\"p1488\"}],\"toolbar\":{\"type\":\"object\",\"name\":\"Toolbar\",\"id\":\"p1363\",\"attributes\":{\"tools\":[{\"id\":\"p1376\"},{\"id\":\"p1377\"},{\"id\":\"p1378\"},{\"id\":\"p1379\"},{\"id\":\"p1387\"},{\"id\":\"p1388\"},{\"id\":\"p1389\"},{\"type\":\"object\",\"name\":\"SaveTool\",\"id\":\"p1390\"},{\"id\":\"p1492\"},{\"id\":\"p1496\"}],\"active_drag\":{\"id\":\"p1376\"},\"active_scroll\":{\"id\":\"p1377\"}}},\"toolbar_location\":null,\"left\":[{\"type\":\"object\",\"name\":\"LinearAxis\",\"id\":\"p1371\",\"attributes\":{\"ticker\":{\"type\":\"object\",\"name\":\"BasicTicker\",\"id\":\"p1372\",\"attributes\":{\"mantissas\":[1,2,5]}},\"formatter\":{\"type\":\"object\",\"name\":\"BasicTickFormatter\",\"id\":\"p1373\"},\"major_label_policy\":{\"type\":\"object\",\"name\":\"AllLabels\",\"id\":\"p1374\"}}}],\"below\":[{\"type\":\"object\",\"name\":\"LinearAxis\",\"id\":\"p1366\",\"attributes\":{\"visible\":false,\"ticker\":{\"type\":\"object\",\"name\":\"BasicTicker\",\"id\":\"p1367\",\"attributes\":{\"mantissas\":[1,2,5]}},\"formatter\":{\"type\":\"object\",\"name\":\"CustomJSTickFormatter\",\"id\":\"p1401\",\"attributes\":{\"args\":{\"type\":\"map\",\"entries\":[[\"axis\",{\"id\":\"p1366\"}],[\"formatter\",{\"type\":\"object\",\"name\":\"DatetimeTickFormatter\",\"id\":\"p1400\",\"attributes\":{\"days\":\"%a, %d %b\"}}],[\"source\",{\"id\":\"p1391\"}]]},\"code\":\"\\nthis.labels = this.labels || formatter.doFormat(ticks\\n                                                .map(i => source.data.datetime[i])\\n                                                .filter(t => t !== undefined));\\nreturn this.labels[index] || \\\"\\\";\\n        \"}},\"major_label_policy\":{\"type\":\"object\",\"name\":\"AllLabels\",\"id\":\"p1369\"}}}],\"center\":[{\"type\":\"object\",\"name\":\"Grid\",\"id\":\"p1370\",\"attributes\":{\"axis\":{\"id\":\"p1366\"}}},{\"type\":\"object\",\"name\":\"Grid\",\"id\":\"p1375\",\"attributes\":{\"dimension\":1,\"axis\":{\"id\":\"p1371\"}}},{\"type\":\"object\",\"name\":\"Legend\",\"id\":\"p1480\",\"attributes\":{\"location\":\"top_left\",\"border_line_color\":\"#333333\",\"background_fill_alpha\":0.9,\"click_policy\":\"hide\",\"label_text_font_size\":\"8pt\",\"margin\":0,\"padding\":5,\"spacing\":0,\"items\":[{\"type\":\"object\",\"name\":\"LegendItem\",\"id\":\"p1481\",\"attributes\":{\"label\":{\"type\":\"value\",\"value\":\"OHLC\"},\"renderers\":[{\"id\":\"p1477\"},{\"id\":\"p1488\"}]}}]}},{\"type\":\"object\",\"name\":\"Label\",\"id\":\"p1491\",\"attributes\":{\"text\":\"Created with Backtesting.py: http://kernc.github.io/backtesting.py\",\"text_color\":\"silver\",\"text_alpha\":0.09,\"x\":10,\"y\":15,\"x_units\":\"screen\",\"y_units\":\"screen\"}}],\"min_border_top\":3,\"min_border_bottom\":6,\"min_border_left\":0,\"min_border_right\":10}},0,0],[{\"type\":\"object\",\"name\":\"Figure\",\"id\":\"p1402\",\"attributes\":{\"width\":null,\"height\":70,\"sizing_mode\":\"stretch_width\",\"x_range\":{\"id\":\"p1354\"},\"y_range\":{\"id\":\"p1404\"},\"x_scale\":{\"type\":\"object\",\"name\":\"LinearScale\",\"id\":\"p1411\"},\"y_scale\":{\"type\":\"object\",\"name\":\"LinearScale\",\"id\":\"p1412\"},\"title\":{\"type\":\"object\",\"name\":\"Title\",\"id\":\"p1409\"},\"outline_line_color\":\"#666666\",\"renderers\":[{\"id\":\"p1444\"}],\"toolbar\":{\"type\":\"object\",\"name\":\"Toolbar\",\"id\":\"p1410\",\"attributes\":{\"tools\":[{\"id\":\"p1423\"},{\"id\":\"p1424\"},{\"id\":\"p1425\"},{\"id\":\"p1426\"},{\"id\":\"p1434\"},{\"id\":\"p1435\"},{\"id\":\"p1436\"},{\"type\":\"object\",\"name\":\"SaveTool\",\"id\":\"p1437\"},{\"id\":\"p1447\"},{\"id\":\"p1496\"}],\"active_drag\":{\"id\":\"p1423\"},\"active_scroll\":{\"id\":\"p1424\"}}},\"toolbar_location\":null,\"left\":[{\"type\":\"object\",\"name\":\"LinearAxis\",\"id\":\"p1418\",\"attributes\":{\"ticker\":{\"type\":\"object\",\"name\":\"BasicTicker\",\"id\":\"p1419\",\"attributes\":{\"desired_num_ticks\":3,\"mantissas\":[1,2,5]}},\"formatter\":{\"type\":\"object\",\"name\":\"NumeralTickFormatter\",\"id\":\"p1448\",\"attributes\":{\"format\":\"0 a\"}},\"axis_label\":\"Volume\",\"major_label_policy\":{\"type\":\"object\",\"name\":\"AllLabels\",\"id\":\"p1421\"},\"minor_tick_line_color\":null}}],\"below\":[{\"type\":\"object\",\"name\":\"LinearAxis\",\"id\":\"p1413\",\"attributes\":{\"visible\":true,\"ticker\":{\"type\":\"object\",\"name\":\"BasicTicker\",\"id\":\"p1414\",\"attributes\":{\"mantissas\":[1,2,5]}},\"formatter\":{\"id\":\"p1401\"},\"major_label_policy\":{\"type\":\"object\",\"name\":\"AllLabels\",\"id\":\"p1416\"}}}],\"center\":[{\"type\":\"object\",\"name\":\"Grid\",\"id\":\"p1417\",\"attributes\":{\"axis\":{\"id\":\"p1413\"}}},{\"type\":\"object\",\"name\":\"Grid\",\"id\":\"p1422\",\"attributes\":{\"dimension\":1,\"axis\":{\"id\":\"p1418\"}}}],\"min_border_top\":3,\"min_border_bottom\":6,\"min_border_left\":0,\"min_border_right\":10}},1,0]]}}],\"callbacks\":{\"type\":\"map\",\"entries\":[[\"document_ready\",[{\"type\":\"object\",\"name\":\"CustomJS\",\"id\":\"p1353\",\"attributes\":{\"code\":\"(function() { var i = document.createElement('iframe'); i.style.display='none';i.width=i.height=1;i.loading='eager';i.src='https://kernc.github.io/backtesting.py/plx.gif.html?utm_source='+location.origin;document.body.appendChild(i);})();\"}}]]]}}};\n",
              "  const render_items = [{\"docid\":\"ee000a16-014e-4883-8c27-5f7bab18e10c\",\"roots\":{\"p1509\":\"d5c1a4f0-9055-466f-b46c-e10dfdfbcf7a\"},\"root_ids\":[\"p1509\"]}];\n",
              "  void root.Bokeh.embed.embed_items_notebook(docs_json, render_items);\n",
              "  }\n",
              "  if (root.Bokeh !== undefined) {\n",
              "    embed_document(root);\n",
              "  } else {\n",
              "    let attempts = 0;\n",
              "    const timer = setInterval(function(root) {\n",
              "      if (root.Bokeh !== undefined) {\n",
              "        clearInterval(timer);\n",
              "        embed_document(root);\n",
              "      } else {\n",
              "        attempts++;\n",
              "        if (attempts > 100) {\n",
              "          clearInterval(timer);\n",
              "          console.log(\"Bokeh: ERROR: Unable to run BokehJS code because BokehJS library is missing\");\n",
              "        }\n",
              "      }\n",
              "    }, 10, root)\n",
              "  }\n",
              "})(window);"
            ],
            "application/vnd.bokehjs_exec.v0+json": ""
          },
          "metadata": {
            "application/vnd.bokehjs_exec.v0+json": {
              "id": "p1509"
            }
          }
        },
        {
          "output_type": "execute_result",
          "data": {
            "text/plain": [
              "GridPlot(id='p1509', ...)"
            ],
            "text/html": [
              "<div style=\"display: table;\"><div style=\"display: table-row;\"><div style=\"display: table-cell;\"><b title=\"bokeh.models.plots.GridPlot\">GridPlot</b>(</div><div style=\"display: table-cell;\">id&nbsp;=&nbsp;'p1509', <span id=\"p1528\" style=\"cursor: pointer;\">&hellip;)</span></div></div><div class=\"p1527\" style=\"display: none;\"><div style=\"display: table-cell;\"></div><div style=\"display: table-cell;\">align&nbsp;=&nbsp;'auto',</div></div><div class=\"p1527\" style=\"display: none;\"><div style=\"display: table-cell;\"></div><div style=\"display: table-cell;\">aspect_ratio&nbsp;=&nbsp;None,</div></div><div class=\"p1527\" style=\"display: none;\"><div style=\"display: table-cell;\"></div><div style=\"display: table-cell;\">children&nbsp;=&nbsp;[(figure(id='p1355', ...), 0, 0), (figure(id='p1402', ...), 1, 0)],</div></div><div class=\"p1527\" style=\"display: none;\"><div style=\"display: table-cell;\"></div><div style=\"display: table-cell;\">cols&nbsp;=&nbsp;None,</div></div><div class=\"p1527\" style=\"display: none;\"><div style=\"display: table-cell;\"></div><div style=\"display: table-cell;\">context_menu&nbsp;=&nbsp;None,</div></div><div class=\"p1527\" style=\"display: none;\"><div style=\"display: table-cell;\"></div><div style=\"display: table-cell;\">css_classes&nbsp;=&nbsp;[],</div></div><div class=\"p1527\" style=\"display: none;\"><div style=\"display: table-cell;\"></div><div style=\"display: table-cell;\">css_variables&nbsp;=&nbsp;{},</div></div><div class=\"p1527\" style=\"display: none;\"><div style=\"display: table-cell;\"></div><div style=\"display: table-cell;\">disabled&nbsp;=&nbsp;False,</div></div><div class=\"p1527\" style=\"display: none;\"><div style=\"display: table-cell;\"></div><div style=\"display: table-cell;\">elements&nbsp;=&nbsp;[],</div></div><div class=\"p1527\" style=\"display: none;\"><div style=\"display: table-cell;\"></div><div style=\"display: table-cell;\">flow_mode&nbsp;=&nbsp;'block',</div></div><div class=\"p1527\" style=\"display: none;\"><div style=\"display: table-cell;\"></div><div style=\"display: table-cell;\">height&nbsp;=&nbsp;None,</div></div><div class=\"p1527\" style=\"display: none;\"><div style=\"display: table-cell;\"></div><div style=\"display: table-cell;\">height_policy&nbsp;=&nbsp;'auto',</div></div><div class=\"p1527\" style=\"display: none;\"><div style=\"display: table-cell;\"></div><div style=\"display: table-cell;\">html_attributes&nbsp;=&nbsp;{},</div></div><div class=\"p1527\" style=\"display: none;\"><div style=\"display: table-cell;\"></div><div style=\"display: table-cell;\">html_id&nbsp;=&nbsp;None,</div></div><div class=\"p1527\" style=\"display: none;\"><div style=\"display: table-cell;\"></div><div style=\"display: table-cell;\">js_event_callbacks&nbsp;=&nbsp;{},</div></div><div class=\"p1527\" style=\"display: none;\"><div style=\"display: table-cell;\"></div><div style=\"display: table-cell;\">js_property_callbacks&nbsp;=&nbsp;{},</div></div><div class=\"p1527\" style=\"display: none;\"><div style=\"display: table-cell;\"></div><div style=\"display: table-cell;\">margin&nbsp;=&nbsp;None,</div></div><div class=\"p1527\" style=\"display: none;\"><div style=\"display: table-cell;\"></div><div style=\"display: table-cell;\">max_height&nbsp;=&nbsp;None,</div></div><div class=\"p1527\" style=\"display: none;\"><div style=\"display: table-cell;\"></div><div style=\"display: table-cell;\">max_width&nbsp;=&nbsp;None,</div></div><div class=\"p1527\" style=\"display: none;\"><div style=\"display: table-cell;\"></div><div style=\"display: table-cell;\">min_height&nbsp;=&nbsp;None,</div></div><div class=\"p1527\" style=\"display: none;\"><div style=\"display: table-cell;\"></div><div style=\"display: table-cell;\">min_width&nbsp;=&nbsp;None,</div></div><div class=\"p1527\" style=\"display: none;\"><div style=\"display: table-cell;\"></div><div style=\"display: table-cell;\">name&nbsp;=&nbsp;None,</div></div><div class=\"p1527\" style=\"display: none;\"><div style=\"display: table-cell;\"></div><div style=\"display: table-cell;\">resizable&nbsp;=&nbsp;False,</div></div><div class=\"p1527\" style=\"display: none;\"><div style=\"display: table-cell;\"></div><div style=\"display: table-cell;\">rows&nbsp;=&nbsp;None,</div></div><div class=\"p1527\" style=\"display: none;\"><div style=\"display: table-cell;\"></div><div style=\"display: table-cell;\">sizing_mode&nbsp;=&nbsp;'stretch_width',</div></div><div class=\"p1527\" style=\"display: none;\"><div style=\"display: table-cell;\"></div><div style=\"display: table-cell;\">spacing&nbsp;=&nbsp;0,</div></div><div class=\"p1527\" style=\"display: none;\"><div style=\"display: table-cell;\"></div><div style=\"display: table-cell;\">styles&nbsp;=&nbsp;{},</div></div><div class=\"p1527\" style=\"display: none;\"><div style=\"display: table-cell;\"></div><div style=\"display: table-cell;\">stylesheets&nbsp;=&nbsp;[],</div></div><div class=\"p1527\" style=\"display: none;\"><div style=\"display: table-cell;\"></div><div style=\"display: table-cell;\">subscribed_events&nbsp;=&nbsp;PropertyValueSet(),</div></div><div class=\"p1527\" style=\"display: none;\"><div style=\"display: table-cell;\"></div><div style=\"display: table-cell;\">syncable&nbsp;=&nbsp;True,</div></div><div class=\"p1527\" style=\"display: none;\"><div style=\"display: table-cell;\"></div><div style=\"display: table-cell;\">tags&nbsp;=&nbsp;[],</div></div><div class=\"p1527\" style=\"display: none;\"><div style=\"display: table-cell;\"></div><div style=\"display: table-cell;\">toolbar&nbsp;=&nbsp;Toolbar(id='p1508', ...),</div></div><div class=\"p1527\" style=\"display: none;\"><div style=\"display: table-cell;\"></div><div style=\"display: table-cell;\">toolbar_location&nbsp;=&nbsp;'right',</div></div><div class=\"p1527\" style=\"display: none;\"><div style=\"display: table-cell;\"></div><div style=\"display: table-cell;\">visible&nbsp;=&nbsp;True,</div></div><div class=\"p1527\" style=\"display: none;\"><div style=\"display: table-cell;\"></div><div style=\"display: table-cell;\">width&nbsp;=&nbsp;None,</div></div><div class=\"p1527\" style=\"display: none;\"><div style=\"display: table-cell;\"></div><div style=\"display: table-cell;\">width_policy&nbsp;=&nbsp;'auto')</div></div></div>\n",
              "<script>\n",
              "(function() {\n",
              "  let expanded = false;\n",
              "  const ellipsis = document.getElementById(\"p1528\");\n",
              "  ellipsis.addEventListener(\"click\", function() {\n",
              "    const rows = document.getElementsByClassName(\"p1527\");\n",
              "    for (let i = 0; i < rows.length; i++) {\n",
              "      const el = rows[i];\n",
              "      el.style.display = expanded ? \"none\" : \"table-row\";\n",
              "    }\n",
              "    ellipsis.innerHTML = expanded ? \"&hellip;)\" : \"&lsaquo;&lsaquo;&lsaquo;\";\n",
              "    expanded = !expanded;\n",
              "  });\n",
              "})();\n",
              "</script>\n"
            ]
          },
          "metadata": {},
          "execution_count": 12
        }
      ]
    },
    {
      "cell_type": "markdown",
      "source": [
        "# **Save Results to CSV**"
      ],
      "metadata": {
        "id": "dVHRe7W5cXnU"
      }
    },
    {
      "cell_type": "code",
      "source": [
        "# 6. Save results\n",
        "stats_df = pd.DataFrame([stats])\n",
        "try:\n",
        "    stats_df.to_csv(f\"{BASE_DIR}/backtest_results.csv\", index=False)\n",
        "    print(f\"Results saved to {BASE_DIR}/backtest_results.csv\")\n",
        "except Exception as e:\n",
        "    print(f\"Error saving results: {e}\")"
      ],
      "metadata": {
        "id": "tXm4PJGwY9SX",
        "colab": {
          "base_uri": "https://localhost:8080/"
        },
        "outputId": "0ee50708-1f3c-4964-abac-5e86e227dd24"
      },
      "execution_count": 14,
      "outputs": [
        {
          "output_type": "stream",
          "name": "stdout",
          "text": [
            "Results saved to /content/drive/MyDrive/QR_Intern/backtest_results.csv\n"
          ]
        }
      ]
    }
  ]
}